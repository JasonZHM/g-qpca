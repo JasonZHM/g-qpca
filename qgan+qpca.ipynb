{
 "cells": [
  {
   "cell_type": "code",
   "execution_count": 1542,
   "metadata": {},
   "outputs": [],
   "source": [
    "import pennylane as qml\n",
    "import numpy as np\n",
    "import tensorflow as tf"
   ]
  },
  {
   "cell_type": "code",
   "execution_count": 1543,
   "metadata": {},
   "outputs": [],
   "source": [
    "dev = qml.device('default.qubit', wires=5)"
   ]
  },
  {
   "cell_type": "code",
   "execution_count": 1544,
   "metadata": {},
   "outputs": [],
   "source": [
    "def real(angles, **kwargs):\n",
    "    qml.Hadamard(wires=0)\n",
    "    qml.RY(np.pi / 4, wires=1)\n",
    "    qml.RX(np.pi / 4, wires=0)\n",
    "    qml.CNOT(wires=[0, 1])\n",
    "    qml.Rot(*angles, wires=0)\n",
    "    qml.CNOT(wires=[0, 1])"
   ]
  },
  {
   "cell_type": "code",
   "execution_count": 1545,
   "metadata": {},
   "outputs": [],
   "source": [
    "def generator(w, wires, **kwargs):\n",
    "    qml.Hadamard(wires=wires[0])\n",
    "    qml.RX(w[0], wires=wires[0])\n",
    "    qml.RX(w[1], wires=wires[1])\n",
    "    qml.RY(w[2], wires=wires[0])\n",
    "    qml.RY(w[3], wires=wires[1])\n",
    "    qml.RZ(w[4], wires=wires[0])\n",
    "    qml.RZ(w[5], wires=wires[1])\n",
    "    qml.CNOT(wires=[wires[0], wires[1]])\n",
    "    qml.RX(w[6], wires=wires[0])\n",
    "    qml.RY(w[7], wires=wires[0])\n",
    "    qml.RZ(w[8], wires=wires[0])"
   ]
  },
  {
   "cell_type": "code",
   "execution_count": 1546,
   "metadata": {},
   "outputs": [],
   "source": [
    "def utheta(theta, wires, **kwargs):\n",
    "    qml.Hadamard(wires=wires[0])\n",
    "    qml.RX(theta[0], wires=wires[0])\n",
    "    qml.RY(theta[2], wires=wires[0])\n",
    "    qml.RZ(theta[4], wires=wires[0])"
   ]
  },
  {
   "cell_type": "code",
   "execution_count": 1547,
   "metadata": {},
   "outputs": [],
   "source": [
    "@qml.qnode(dev, interface=\"tf\")\n",
    "def qpca_train(angles, theta_weights, **kwargs):\n",
    "    real(angles)\n",
    "    utheta(theta_weights, [0, 1])\n",
    "    z0 = qml.expval(qml.PauliZ(0))\n",
    "    z1 = qml.expval(qml.PauliZ(1))\n",
    "    return z0, z1"
   ]
  },
  {
   "cell_type": "code",
   "execution_count": 1548,
   "metadata": {},
   "outputs": [],
   "source": [
    "@qml.qnode(dev, interface=\"tf\")\n",
    "def qpca(angles, theta_weights, **kwargs):\n",
    "    real(angles)\n",
    "    utheta(theta_weights, [0, 1])\n",
    "    z0 = qml.expval(qml.PauliX(0))\n",
    "    z1 = qml.expval(qml.PauliX(1))\n",
    "    return z0, z1"
   ]
  },
  {
   "cell_type": "code",
   "execution_count": 1549,
   "metadata": {},
   "outputs": [],
   "source": [
    "def pcaloss(angles, theta_weights, **kwargs):\n",
    "    z0, z1 = qpca_train(angles, theta_weights)\n",
    "    return 0.5 * ((z0 + 1) + 2 * (z1 + 1))"
   ]
  },
  {
   "cell_type": "code",
   "execution_count": 1550,
   "metadata": {},
   "outputs": [],
   "source": [
    "angles = [np.pi / 6, np.pi / 2, np.pi / 7]\n",
    "\n",
    "np.random.seed(0)\n",
    "eps = 1e-2\n",
    "init_theta_weights = np.array([np.pi] + [0] * 8) + \\\n",
    "                   np.random.normal(scale=eps, size=(9,))\n",
    "theta_weights = tf.Variable(init_theta_weights)\n",
    "\n",
    "opt = tf.keras.optimizers.SGD(0.4)"
   ]
  },
  {
   "cell_type": "code",
   "execution_count": 1551,
   "metadata": {},
   "outputs": [
    {
     "name": "stdout",
     "output_type": "stream",
     "text": [
      "Step 0: cost = 1.5571886829117703\n",
      "Step 5: cost = 1.2892331829779142\n",
      "Step 10: cost = 1.1892890937754075\n",
      "Step 15: cost = 1.1626307870074803\n",
      "Step 20: cost = 1.1477379616540317\n",
      "Step 25: cost = 1.134807694619431\n",
      "Step 30: cost = 1.1240492155845228\n",
      "Step 35: cost = 1.1162338778316263\n",
      "Step 40: cost = 1.1112059428219005\n",
      "Step 45: cost = 1.1082432576651444\n",
      "Step 50: cost = 1.106592898182944\n",
      "Step 55: cost = 1.1057032241145048\n",
      "Step 60: cost = 1.1052320852196984\n",
      "Step 65: cost = 1.1049848589500617\n",
      "Step 70: cost = 1.1048557117153273\n",
      "Step 75: cost = 1.1047883918636328\n",
      "Step 80: cost = 1.104753335539718\n",
      "Step 85: cost = 1.1047350886051888\n",
      "Step 90: cost = 1.1047255930003252\n",
      "Step 95: cost = 1.1047206520070627\n",
      "Step 100: cost = 1.1047180810943749\n",
      "Step 105: cost = 1.1047167434150966\n",
      "Step 110: cost = 1.1047160474092899\n",
      "Step 115: cost = 1.1047156852730495\n",
      "Step 120: cost = 1.1047154968516097\n",
      "Step 125: cost = 1.1047153988150025\n",
      "Step 130: cost = 1.1047153478060898\n",
      "Step 135: cost = 1.104715321265916\n",
      "Step 140: cost = 1.1047153074569418\n",
      "Step 145: cost = 1.104715300272069\n",
      "Step 150: cost = 1.104715296533747\n",
      "Step 155: cost = 1.1047152945886805\n",
      "Step 160: cost = 1.1047152935766538\n",
      "Step 165: cost = 1.1047152930500919\n",
      "Step 170: cost = 1.1047152927761195\n",
      "Step 175: cost = 1.1047152926335702\n",
      "Step 180: cost = 1.1047152925594013\n",
      "Step 185: cost = 1.1047152925208108\n",
      "Step 190: cost = 1.104715292500732\n",
      "Step 195: cost = 1.1047152924902846\n"
     ]
    }
   ],
   "source": [
    "cost = lambda: pcaloss(angles, theta_weights)\n",
    "for step in range(200):\n",
    "    opt.minimize(cost, theta_weights)\n",
    "    if step % 5 == 0:\n",
    "        cost_val = cost().numpy()\n",
    "        print(\"Step {}: cost = {}\".format(step, cost_val))"
   ]
  },
  {
   "cell_type": "code",
   "execution_count": 1552,
   "metadata": {},
   "outputs": [],
   "source": [
    "@qml.qnode(dev, interface=\"tf\")\n",
    "def get_real_prob(angles, theta_weights, **kwargs):\n",
    "    real(angles)\n",
    "    utheta(theta_weights, [0, 1])\n",
    "    return qml.probs(wires=[0])\n"
   ]
  },
  {
   "cell_type": "code",
   "execution_count": 1553,
   "metadata": {},
   "outputs": [
    {
     "name": "stdout",
     "output_type": "stream",
     "text": [
      "tf.Tensor([0.10471529 0.89528471], shape=(2,), dtype=float64)\n",
      "0.8124999999893755\n"
     ]
    }
   ],
   "source": [
    "prob_real = get_real_prob(angles, theta_weights)\n",
    "purity_real = np.linalg.norm(prob_real) ** 2\n",
    "print(prob_real)\n",
    "print(purity_real)"
   ]
  },
  {
   "cell_type": "code",
   "execution_count": 1554,
   "metadata": {},
   "outputs": [],
   "source": [
    "@qml.qnode(dev, interface=\"tf\")\n",
    "def get_gen_prob(gen_weights, theta_weights, **kwargs):\n",
    "    generator(gen_weights, [2, 3])\n",
    "    utheta(theta_weights, [2, 3])\n",
    "    return qml.probs(wires=[2])"
   ]
  },
  {
   "cell_type": "code",
   "execution_count": 1555,
   "metadata": {},
   "outputs": [],
   "source": [
    "@qml.qnode(dev, interface=\"tf\")\n",
    "def get_gen_purity(gen_weights, theta_weights, **kwargs):\n",
    "    generator(gen_weights, [0, 1])\n",
    "    utheta(theta_weights, [0, 1])\n",
    "    generator(gen_weights, [2, 3])\n",
    "    utheta(theta_weights, [2, 3])\n",
    "    qml.Hadamard(wires=4)\n",
    "    qml.CSWAP(wires=[4, 0, 2])\n",
    "    qml.Hadamard(wires=4)\n",
    "    return qml.expval(qml.PauliZ(4))\n"
   ]
  },
  {
   "cell_type": "code",
   "execution_count": 1556,
   "metadata": {},
   "outputs": [],
   "source": [
    "init_gen_weights = np.array([np.pi] + [0] * 8) + \\\n",
    "                   np.random.normal(scale=eps, size=(9,))\n",
    "gen_weights = tf.Variable(init_gen_weights)"
   ]
  },
  {
   "cell_type": "code",
   "execution_count": 1557,
   "metadata": {},
   "outputs": [],
   "source": [
    "def gen_loss(gen_weights, theta_weights):\n",
    "    global prob_real\n",
    "    prob_gen = get_gen_prob(gen_weights, theta_weights)\n",
    "    purity_gen = get_gen_purity(gen_weights, theta_weights)\n",
    "    return - tf.reduce_mean(tf.reduce_sum(prob_real*tf.math.log(prob_gen))) - (purity_real * tf.math.log(purity_gen) + (1 - purity_real) * tf.math.log(1 - purity_gen))\n",
    "    #return tf.reduce_mean(tf.nn.sigmoid_cross_entropy_with_logits(logits = prob_gen, labels = prob_real))"
   ]
  },
  {
   "cell_type": "code",
   "execution_count": 1558,
   "metadata": {},
   "outputs": [
    {
     "name": "stdout",
     "output_type": "stream",
     "text": [
      "Step 0: cost = 1.1889426419156517\n",
      "Step 5: cost = 0.8223649740647803\n",
      "Step 10: cost = 0.8201229644474415\n",
      "Step 15: cost = 0.8192186012793075\n",
      "Step 20: cost = 0.818769626252056\n",
      "Step 25: cost = 0.8185154843292599\n",
      "Step 30: cost = 0.8183580655992153\n",
      "Step 35: cost = 0.8182539494870826\n",
      "Step 40: cost = 0.8181815685438522\n",
      "Step 45: cost = 0.8181292410412724\n",
      "Step 50: cost = 0.8180901985519654\n",
      "Step 55: cost = 0.8180603019241094\n",
      "Step 60: cost = 0.8180369054725596\n",
      "Step 65: cost = 0.8180182545614646\n",
      "Step 70: cost = 0.8180031485611776\n",
      "Step 75: cost = 0.8179907435957373\n",
      "Step 80: cost = 0.8179804325744128\n",
      "Step 85: cost = 0.8179717697590043\n",
      "Step 90: cost = 0.8179644219352906\n",
      "Step 95: cost = 0.8179581359857468\n"
     ]
    }
   ],
   "source": [
    "cost = lambda: gen_loss(gen_weights, theta_weights)\n",
    "for step in range(100):\n",
    "    opt.minimize(cost, gen_weights)\n",
    "    if step % 5 == 0:\n",
    "        cost_val = cost().numpy()\n",
    "        print(\"Step {}: cost = {}\".format(step, cost_val))"
   ]
  },
  {
   "cell_type": "code",
   "execution_count": 1559,
   "metadata": {},
   "outputs": [
    {
     "name": "stdout",
     "output_type": "stream",
     "text": [
      "tf.Tensor(\n",
      "[[ 1.04715292e-01+0.00000000e+00j -4.30110765e-08-2.30431119e-06j]\n",
      " [-4.30110765e-08+2.30431119e-06j  8.95284708e-01+0.00000000e+00j]], shape=(2, 2), dtype=complex128)\n",
      "tf.Tensor(\n",
      "[[ 0.10724913+0.j         -0.05171156-0.02397021j]\n",
      " [-0.05171156+0.02397021j  0.89275087+0.j        ]], shape=(2, 2), dtype=complex128)\n"
     ]
    }
   ],
   "source": [
    "@qml.qnode(dev, interface=\"tf\")\n",
    "def show_real_diag(angles, theta_weights, **kwargs):\n",
    "    real(angles)\n",
    "    utheta(theta_weights, [0, 1])\n",
    "    return qml.density_matrix([0])\n",
    "\n",
    "@qml.qnode(dev, interface=\"tf\")\n",
    "def show_gen_diag(gen_weights, theta_weights, **kwargs):\n",
    "    generator(gen_weights, [2, 3])\n",
    "    utheta(theta_weights, [2, 3])\n",
    "    return qml.density_matrix([2])\n",
    "    \n",
    "print(show_real_diag(angles, theta_weights))\n",
    "print(show_gen_diag(gen_weights, theta_weights))"
   ]
  },
  {
   "cell_type": "code",
   "execution_count": 1560,
   "metadata": {},
   "outputs": [
    {
     "name": "stdout",
     "output_type": "stream",
     "text": [
      "tf.Tensor(\n",
      "[[ 0.19381378+0.j         -0.10847093-0.22524222j]\n",
      " [-0.10847093+0.22524222j  0.80618622+0.j        ]], shape=(2, 2), dtype=complex128)\n",
      "tf.Tensor(\n",
      "[[ 0.16336004+0.j         -0.11301068-0.17721179j]\n",
      " [-0.11301068+0.17721179j  0.83663996+0.j        ]], shape=(2, 2), dtype=complex128)\n"
     ]
    }
   ],
   "source": [
    "@qml.qnode(dev, interface=\"tf\")\n",
    "def show_real(angles):\n",
    "    real(angles)\n",
    "    return qml.density_matrix([0])\n",
    "\n",
    "@qml.qnode(dev, interface=\"tf\")\n",
    "def show_gen(gen_weights):\n",
    "    generator(gen_weights, [2, 3])\n",
    "    return qml.density_matrix([2])\n",
    "    \n",
    "print(show_real(angles))\n",
    "print(show_gen(gen_weights))"
   ]
  },
  {
   "cell_type": "code",
   "execution_count": 1561,
   "metadata": {},
   "outputs": [
    {
     "name": "stdout",
     "output_type": "stream",
     "text": [
      "Real Bloch vector: [-0.21694187  0.45048443 -0.61237244]\n",
      "Generator Bloch vector: [-0.22602137  0.35442359 -0.67327992]\n"
     ]
    }
   ],
   "source": [
    "obs = [qml.PauliX(0), qml.PauliY(0), qml.PauliZ(0)]\n",
    "\n",
    "bloch_vector_real = qml.map(real, obs, dev, interface=\"tf\")\n",
    "bloch_vector_generator = qml.map(generator, obs, dev, interface=\"tf\")\n",
    "\n",
    "print(\"Real Bloch vector: {}\".format(bloch_vector_real(angles)))\n",
    "print(\"Generator Bloch vector: {}\".format(bloch_vector_generator(gen_weights)))"
   ]
  }
 ],
 "metadata": {
  "interpreter": {
   "hash": "31f2aee4e71d21fbe5cf8b01ff0e069b9275f58929596ceb00d14d90e3e16cd6"
  },
  "kernelspec": {
   "display_name": "Python 3.8.10 64-bit",
   "name": "python3"
  },
  "language_info": {
   "codemirror_mode": {
    "name": "ipython",
    "version": 3
   },
   "file_extension": ".py",
   "mimetype": "text/x-python",
   "name": "python",
   "nbconvert_exporter": "python",
   "pygments_lexer": "ipython3",
   "version": "3.8.10"
  },
  "orig_nbformat": 4
 },
 "nbformat": 4,
 "nbformat_minor": 2
}
