{
 "cells": [
  {
   "cell_type": "code",
   "execution_count": 1,
   "metadata": {},
   "outputs": [],
   "source": [
    "import pennylane as qml\n",
    "import numpy as np\n",
    "import tensorflow as tf"
   ]
  },
  {
   "cell_type": "code",
   "execution_count": 2,
   "metadata": {},
   "outputs": [],
   "source": [
    "dev = qml.device('cirq.simulator', wires=4)"
   ]
  },
  {
   "cell_type": "code",
   "execution_count": 3,
   "metadata": {},
   "outputs": [],
   "source": [
    "def real(angles, **kwargs):\n",
    "    qml.Hadamard(wires=0)\n",
    "    qml.Rot(*angles, wires=0)"
   ]
  },
  {
   "cell_type": "code",
   "execution_count": 4,
   "metadata": {},
   "outputs": [],
   "source": [
    "def generator(w, **kwargs):\n",
    "    qml.Hadamard(wires=1)\n",
    "    qml.RX(w[0], wires=1)\n",
    "    qml.RX(w[1], wires=2)\n",
    "    qml.RY(w[2], wires=1)\n",
    "    qml.RY(w[3], wires=2)\n",
    "    qml.RZ(w[4], wires=1)\n",
    "    qml.RZ(w[5], wires=2)\n",
    "    qml.CNOT(wires=[1, 2])\n",
    "    qml.RX(w[6], wires=1)\n",
    "    qml.RY(w[7], wires=1)\n",
    "    qml.RZ(w[8], wires=1)"
   ]
  },
  {
   "cell_type": "code",
   "execution_count": 7,
   "metadata": {},
   "outputs": [],
   "source": [
    "def swap_test():\n",
    "    qml.Hadamard(wires=3)\n",
    "    qml.CSWAP(wires=[3, 0, 1])\n",
    "    qml.Hadamard(wires=3)"
   ]
  },
  {
   "cell_type": "code",
   "execution_count": 11,
   "metadata": {},
   "outputs": [],
   "source": [
    "@qml.qnode(dev, interface=\"tf\")\n",
    "def overlap(phi, theta, omega, gen_weights):\n",
    "    real([phi, theta, omega])\n",
    "    generator(gen_weights)\n",
    "    swap_test()\n",
    "    return qml.expval(qml.PauliZ(3))"
   ]
  },
  {
   "cell_type": "code",
   "execution_count": 9,
   "metadata": {},
   "outputs": [],
   "source": [
    "phi = np.pi / 6\n",
    "theta = np.pi / 2\n",
    "omega = np.pi / 7\n",
    "np.random.seed(0)\n",
    "eps = 1e-2\n",
    "init_gen_weights = np.array([np.pi] + [0] * 8) + \\\n",
    "                   np.random.normal(scale=eps, size=(9,))\n",
    "\n",
    "gen_weights = tf.Variable(init_gen_weights)"
   ]
  },
  {
   "cell_type": "code",
   "execution_count": 10,
   "metadata": {},
   "outputs": [],
   "source": [
    "opt = tf.keras.optimizers.SGD(0.4)"
   ]
  },
  {
   "cell_type": "code",
   "execution_count": 12,
   "metadata": {},
   "outputs": [
    {
     "name": "stdout",
     "output_type": "stream",
     "text": [
      "Step 0: cost = 0.4184114336967468\n",
      "Step 5: cost = 0.11036825180053711\n",
      "Step 10: cost = 0.0188065767288208\n",
      "Step 15: cost = 0.003579854965209961\n",
      "Step 20: cost = 0.0007672309875488281\n",
      "Step 25: cost = 0.00017178058624267578\n",
      "Step 30: cost = 3.910064697265625e-05\n",
      "Step 35: cost = 9.059906005859375e-06\n",
      "Step 40: cost = 2.6226043701171875e-06\n",
      "Step 45: cost = 7.748603820800781e-07\n"
     ]
    }
   ],
   "source": [
    "cost = lambda: 1 - overlap(phi, theta, omega, gen_weights)\n",
    "for step in range(50):\n",
    "    opt.minimize(cost, gen_weights)\n",
    "    if step % 5 == 0:\n",
    "        cost_val = cost().numpy()\n",
    "        print(\"Step {}: cost = {}\".format(step, cost_val))"
   ]
  },
  {
   "cell_type": "code",
   "execution_count": 14,
   "metadata": {},
   "outputs": [
    {
     "name": "stdout",
     "output_type": "stream",
     "text": [
      "Real Bloch vector: [-0.21694186  0.45048442 -0.86602521]\n",
      "Generator Bloch vector: [-0.21651354  0.45036009 -0.86619705]\n"
     ]
    }
   ],
   "source": [
    "obs_real = [qml.PauliX(0), qml.PauliY(0), qml.PauliZ(0)]\n",
    "obs_gen = [qml.PauliX(1), qml.PauliY(1), qml.PauliZ(1)]\n",
    "\n",
    "bloch_vector_real = qml.map(real, obs_real, dev, interface=\"tf\")\n",
    "bloch_vector_generator = qml.map(generator, obs_gen, dev, interface=\"tf\")\n",
    "\n",
    "print(\"Real Bloch vector: {}\".format(bloch_vector_real([phi, theta, omega])))\n",
    "print(\"Generator Bloch vector: {}\".format(bloch_vector_generator(gen_weights)))"
   ]
  }
 ],
 "metadata": {
  "interpreter": {
   "hash": "6544d7d25989b4294a912322cb1a3d014baeb728b9c72e23e3b8bbf4fa651ef0"
  },
  "kernelspec": {
   "display_name": "Python 3.7.6 64-bit ('anaconda3-2020.02': pyenv)",
   "language": "python",
   "name": "python3"
  },
  "language_info": {
   "codemirror_mode": {
    "name": "ipython",
    "version": 3
   },
   "file_extension": ".py",
   "mimetype": "text/x-python",
   "name": "python",
   "nbconvert_exporter": "python",
   "pygments_lexer": "ipython3",
   "version": "3.7.6"
  },
  "orig_nbformat": 4
 },
 "nbformat": 4,
 "nbformat_minor": 2
}
