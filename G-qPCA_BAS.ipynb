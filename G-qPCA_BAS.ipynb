{
 "cells": [
  {
   "cell_type": "code",
   "execution_count": 1,
   "id": "8e8a04ae",
   "metadata": {},
   "outputs": [],
   "source": [
    "import pennylane as qml\n",
    "import numpy as np\n",
    "import tensorflow as tf\n",
    "import matplotlib.pyplot as plt\n",
    "import os\n",
    "from tqdm.notebook import tqdm\n",
    "%matplotlib inline\n",
    "os.environ['CUDA_DEVICE_ORDER'] = 'PCI_BUS_ID'\n",
    "os.environ['CUDA_VISIBLE_DEVICES'] = '-1'"
   ]
  },
  {
   "cell_type": "code",
   "execution_count": 2,
   "id": "c80e541b",
   "metadata": {},
   "outputs": [],
   "source": [
    "# Ref: https://github.com/GiggleLiu/QuantumCircuitBornMachine/blob/master/qcbm/dataset.py\n",
    "def unpacknbits(arr, nbit, axis=-1):\n",
    "    '''unpack numbers to bits.'''\n",
    "    nd = np.ndim(arr)\n",
    "    if axis < 0:\n",
    "        axis = nd + axis\n",
    "    return (((arr & (1 << np.arange(nbit - 1, -1, -1)).reshape([-1] + [1] * (nd - axis - 1)))) > 0).astype('int8')\n",
    "\n",
    "\n",
    "def packnbits(arr, axis=-1):\n",
    "    '''pack bits to numbers.'''\n",
    "    nd = np.ndim(arr)\n",
    "    nbit = np.shape(arr)[axis]\n",
    "    if axis < 0:\n",
    "        axis = nd + axis\n",
    "    return (arr * (1 << np.arange(nbit - 1, -1, -1)).reshape([-1] + [1] * (nd - axis - 1))).sum(axis=axis, keepdims=True).astype('int')\n",
    "\n",
    "def digit_basis(geometry):\n",
    "    num_bit = np.prod(geometry)\n",
    "    M = 2**num_bit\n",
    "    x = np.arange(M)\n",
    "    return x\n",
    "\n",
    "def binary_basis(geometry):\n",
    "    num_bit = np.prod(geometry)\n",
    "    M = 2**num_bit\n",
    "    x = np.arange(M)\n",
    "    return unpacknbits(x[:,None], num_bit).reshape((-1,)+geometry)\n",
    "\n",
    "def gaussian_pdf(geometry, mu, sigma):\n",
    "    '''get gaussian distribution function'''\n",
    "    x = digit_basis(geometry)\n",
    "    pl = 1. / np.sqrt(2 * np.pi * sigma**2) * \\\n",
    "        np.exp(-(x - mu)**2 / (2. * sigma**2))\n",
    "    return pl/pl.sum()\n",
    "\n",
    "def barstripe_pdf(geometry):\n",
    "    '''get bar and stripes PDF'''\n",
    "    x = binary_basis(geometry)\n",
    "    pl = is_bs(x)\n",
    "    return pl/pl.sum()\n",
    "\n",
    "def is_bs(samples):\n",
    "    '''a sample is a bar or a stripe.'''\n",
    "    return (np.abs(np.diff(samples,axis=-1)).sum(axis=(1,2))==0)|((np.abs(np.diff(samples, axis=1)).sum(axis=(1,2)))==0)"
   ]
  },
  {
   "cell_type": "code",
   "execution_count": 5,
   "id": "d5338793",
   "metadata": {},
   "outputs": [
    {
     "name": "stderr",
     "output_type": "stream",
     "text": [
      "/home/hmzhao/.conda/envs/ode-rnn/lib/python3.9/site-packages/matplotlib/text.py:1215: FutureWarning: elementwise comparison failed; returning scalar instead, but in the future will perform elementwise comparison\n",
      "  if s != self._text:\n"
     ]
    },
    {
     "data": {
      "image/png": "[encoded data removed]",
      "text/plain": [
       "<Figure size 432x288 with 1 Axes>"
      ]
     },
     "metadata": {
      "needs_background": "light"
     },
     "output_type": "display_data"
    },
    {
     "data": {
      "image/png": "[encoded data removed]",
      "text/plain": [
       "<Figure size 432x288 with 10 Axes>"
      ]
     },
     "metadata": {},
     "output_type": "display_data"
    }
   ],
   "source": [
    "geometry = (2, 3)\n",
    "pl2 = barstripe_pdf(geometry)\n",
    "plt.plot(pl2)\n",
    "\n",
    "# show ticks\n",
    "basis = binary_basis(geometry)\n",
    "plt.xticks([0, 2**4-1], [basis[0], basis[2**4-1]])\n",
    "plt.show()\n",
    "\n",
    "# generate samples\n",
    "samples = basis[pl2>1e-2]\n",
    "\n",
    "# show bar and stripes\n",
    "def plot_bs(samples, size):\n",
    "    plt.figure(facecolor='#777777')\n",
    "    gs = plt.GridSpec(*size)\n",
    "\n",
    "    for i in range(size[0]):\n",
    "        for j in range(size[1]):\n",
    "            if i*size[1]+j == len(samples): break\n",
    "            plt.subplot(gs[i,j]).imshow(samples[i*size[1]+j], vmin=0, vmax=1)\n",
    "            plt.axis('equal')\n",
    "            plt.axis('off')\n",
    "    plt.show()\n",
    "\n",
    "size = (3, 4)\n",
    "plot_bs(samples, size)"
   ]
  },
  {
   "cell_type": "code",
   "execution_count": 6,
   "id": "74d5570c",
   "metadata": {},
   "outputs": [
    {
     "name": "stderr",
     "output_type": "stream",
     "text": [
      "2022-01-21 21:09:09.912765: E tensorflow/stream_executor/cuda/cuda_driver.cc:271] failed call to cuInit: CUDA_ERROR_NO_DEVICE: no CUDA-capable device is detected\n",
      "2022-01-21 21:09:09.912796: I tensorflow/stream_executor/cuda/cuda_diagnostics.cc:169] retrieving CUDA diagnostic information for host: metis\n",
      "2022-01-21 21:09:09.912801: I tensorflow/stream_executor/cuda/cuda_diagnostics.cc:176] hostname: metis\n",
      "2022-01-21 21:09:09.912917: I tensorflow/stream_executor/cuda/cuda_diagnostics.cc:200] libcuda reported version is: 495.29.5\n",
      "2022-01-21 21:09:09.912934: I tensorflow/stream_executor/cuda/cuda_diagnostics.cc:204] kernel reported version is: 495.29.5\n",
      "2022-01-21 21:09:09.912937: I tensorflow/stream_executor/cuda/cuda_diagnostics.cc:310] kernel version seems to match DSO: 495.29.5\n",
      "2022-01-21 21:09:09.913251: I tensorflow/core/platform/cpu_feature_guard.cc:151] This TensorFlow binary is optimized with oneAPI Deep Neural Network Library (oneDNN) to use the following CPU instructions in performance-critical operations:  AVX2 AVX512F FMA\n",
      "To enable them in other operations, rebuild TensorFlow with the appropriate compiler flags.\n"
     ]
    }
   ],
   "source": [
    "n = 6 # n qubits\n",
    "n_layers = 2 * n ** 2 # number of layers in variational circuit\n",
    "if n == 1:\n",
    "    n_layers = 0\n",
    "dev = qml.device('default.qubit.tf', wires=n)"
   ]
  },
  {
   "cell_type": "code",
   "execution_count": 7,
   "id": "80c1d97e",
   "metadata": {},
   "outputs": [],
   "source": [
    "def get_target(sample_pos):\n",
    "    '''\n",
    "        Prepare target state at the first n qubits.\n",
    "    '''\n",
    "    state = np.zeros(2**n)\n",
    "    state[sample_pos] = 1\n",
    "    qml.QubitStateVector(state, wires=list(range(n)))"
   ]
  },
  {
   "cell_type": "code",
   "execution_count": 8,
   "id": "8cc7fc91",
   "metadata": {},
   "outputs": [],
   "source": [
    "def variational_circuit(n_layers, weights, wires, **kwargs):\n",
    "    '''\n",
    "        Template for a variational circuit.\n",
    "    '''\n",
    "    pos = 0\n",
    "    for i in range(len(wires)):\n",
    "        qml.RX(weights[pos], wires=wires[i])\n",
    "        qml.RY(weights[pos+1], wires=wires[i])\n",
    "        qml.RZ(weights[pos+2], wires=wires[i])\n",
    "        pos += 3\n",
    "\n",
    "    for layer in range(n_layers):\n",
    "        for i in range(len(wires)-1):\n",
    "            qml.CNOT(wires=[wires[i], wires[i+1]])\n",
    "        qml.CNOT(wires=[wires[len(wires)-1], wires[0]])\n",
    "        \n",
    "        for i in range(len(wires)):\n",
    "            qml.RX(weights[pos], wires=wires[i])\n",
    "            qml.RY(weights[pos+1], wires=wires[i])\n",
    "            qml.RZ(weights[pos+2], wires=wires[i])\n",
    "            pos += 3"
   ]
  },
  {
   "cell_type": "code",
   "execution_count": 9,
   "id": "8e648252",
   "metadata": {},
   "outputs": [],
   "source": [
    "def variational_qpca(n_layers, variational_params, **kwargs):\n",
    "    '''\n",
    "        Perform variational quantum PCA.\n",
    "    '''\n",
    "    variational_circuit(n_layers, variational_params, np.arange(n))"
   ]
  },
  {
   "cell_type": "code",
   "execution_count": 10,
   "id": "9d231d5a",
   "metadata": {},
   "outputs": [],
   "source": [
    "@qml.qnode(dev, interface=\"tf\", diff_method=\"backprop\")\n",
    "def measurement(variational_params, sample_pos=None, n_layers=None, **kwargs):\n",
    "    '''\n",
    "        Measure sigma_z for computing PCA loss.\n",
    "    '''\n",
    "    get_target(sample_pos)\n",
    "    variational_qpca(n_layers, variational_params)\n",
    "    z = []\n",
    "    for i in range(n):\n",
    "        z.append(qml.expval(qml.PauliZ(i)))\n",
    "    return z\n",
    "\n",
    "pj = 1 / 2 ** n / (2 ** n - 1) * 2 ** tf.range(n, dtype=tf.double)\n",
    "def loss_qpca(sample_pos, n_layers, variational_params, **kwargs):\n",
    "    '''\n",
    "        Compute loss for variational quantum PCA, i.e. $Tr(U \\rho U^dagger P)$.\n",
    "    '''\n",
    "    z = measurement(variational_params, sample_pos, n_layers)\n",
    "    return  tf.math.reduce_sum((z + 1) * pj)"
   ]
  },
  {
   "cell_type": "code",
   "execution_count": 11,
   "id": "9d09bc03",
   "metadata": {},
   "outputs": [],
   "source": [
    "# initialize parameters\n",
    "np.random.seed(0)\n",
    "tf.random.set_seed(0)\n",
    "# n_target_params = (n_layers + 1) * 3 * m\n",
    "n_var_params = (n_layers + 1) * 3 * n\n",
    "\n",
    "# target_params = np.array([0] * n_target_params) + np.random.normal(scale=np.pi, size=(n_target_params,))\n",
    "\n",
    "eps = np.pi\n",
    "init_var_params = np.array([0] * n_var_params) + np.random.normal(scale=eps, size=(n_var_params,))\n",
    "# init_var_params = np.loadtxt('./ckpt.csv', delimiter=',')\n",
    "var_params = tf.Variable(init_var_params)\n",
    "\n",
    "# SGD faces barren plateau, Adam is better\n",
    "# lr = 6 for SGD, 0.1 for Adam\n",
    "# opt = tf.keras.optimizers.SGD(6)\n",
    "opt = tf.keras.optimizers.Adam(0.1, decay=0.1)\n",
    "# opt = tf.keras.optimizers.Adadelta(lr=0.1)"
   ]
  },
  {
   "cell_type": "code",
   "execution_count": 12,
   "id": "c0c014b7",
   "metadata": {},
   "outputs": [
    {
     "name": "stdout",
     "output_type": "stream",
     "text": [
      "eigenvalues:  [1.00000000e-01 1.00000000e-01 1.00000000e-01 1.00000000e-01\n",
      " 1.00000000e-01 1.00000000e-01 1.00000000e-01 1.00000000e-01\n",
      " 1.00000000e-01 1.00000000e-01 9.99200722e-18 9.99200722e-18\n",
      " 9.99200722e-18 9.99200722e-18 9.99200722e-18 9.99200722e-18\n",
      " 9.99200722e-18 9.99200722e-18 9.99200722e-18 9.99200722e-18]\n",
      "loss minimum:  0.002232142857142867\n",
      "loss maximum:  0.02901785714285715\n"
     ]
    }
   ],
   "source": [
    "# sigular value decomposition\n",
    "target_state = np.diag(pl2)\n",
    "U, S, V = np.linalg.svd(target_state)\n",
    "print('eigenvalues: ', S[:20])\n",
    "\n",
    "# calculate theoretical minimum of loss\n",
    "loss_minimum = np.sum(S * np.arange(len(S))) / 2 ** n / (2 ** n - 1) * 2\n",
    "loss_maximum = np.sum(S * np.arange(len(S))[::-1]) / 2 ** n / (2 ** n - 1) * 2\n",
    "print('loss minimum: ', loss_minimum)\n",
    "print('loss maximum: ', loss_maximum)"
   ]
  },
  {
   "cell_type": "code",
   "execution_count": 13,
   "id": "96b4c0fd",
   "metadata": {},
   "outputs": [],
   "source": [
    "def get_sample(prob):\n",
    "    return np.random.choice(np.arange(0, 2**n), p=prob)"
   ]
  },
  {
   "cell_type": "code",
   "execution_count": 69,
   "id": "d34b2f53",
   "metadata": {},
   "outputs": [
    {
     "data": {
      "application/vnd.jupyter.widget-view+json": {
       "model_id": "655db847b5e44bf88a94c01d0521c5c0",
       "version_major": 2,
       "version_minor": 0
      },
      "text/plain": [
       "  0%|          | 0/40 [00:00<?, ?it/s]"
      ]
     },
     "metadata": {},
     "output_type": "display_data"
    },
    {
     "data": {
      "application/vnd.jupyter.widget-view+json": {
       "model_id": "",
       "version_major": 2,
       "version_minor": 0
      },
      "text/plain": [
       "  0%|          | 0/5 [00:00<?, ?it/s]"
      ]
     },
     "metadata": {},
     "output_type": "display_data"
    },
    {
     "data": {
      "application/vnd.jupyter.widget-view+json": {
       "model_id": "",
       "version_major": 2,
       "version_minor": 0
      },
      "text/plain": [
       "  0%|          | 0/5 [00:00<?, ?it/s]"
      ]
     },
     "metadata": {},
     "output_type": "display_data"
    },
    {
     "name": "stdout",
     "output_type": "stream",
     "text": [
      "Step 0: cost = 0.002500525317051929, relative excess = 0.12023534203925923\n"
     ]
    },
    {
     "data": {
      "application/vnd.jupyter.widget-view+json": {
       "model_id": "",
       "version_major": 2,
       "version_minor": 0
      },
      "text/plain": [
       "  0%|          | 0/5 [00:00<?, ?it/s]"
      ]
     },
     "metadata": {},
     "output_type": "display_data"
    },
    {
     "data": {
      "application/vnd.jupyter.widget-view+json": {
       "model_id": "",
       "version_major": 2,
       "version_minor": 0
      },
      "text/plain": [
       "  0%|          | 0/5 [00:00<?, ?it/s]"
      ]
     },
     "metadata": {},
     "output_type": "display_data"
    },
    {
     "data": {
      "application/vnd.jupyter.widget-view+json": {
       "model_id": "",
       "version_major": 2,
       "version_minor": 0
      },
      "text/plain": [
       "  0%|          | 0/5 [00:00<?, ?it/s]"
      ]
     },
     "metadata": {},
     "output_type": "display_data"
    },
    {
     "data": {
      "application/vnd.jupyter.widget-view+json": {
       "model_id": "",
       "version_major": 2,
       "version_minor": 0
      },
      "text/plain": [
       "  0%|          | 0/5 [00:00<?, ?it/s]"
      ]
     },
     "metadata": {},
     "output_type": "display_data"
    },
    {
     "data": {
      "application/vnd.jupyter.widget-view+json": {
       "model_id": "",
       "version_major": 2,
       "version_minor": 0
      },
      "text/plain": [
       "  0%|          | 0/5 [00:00<?, ?it/s]"
      ]
     },
     "metadata": {},
     "output_type": "display_data"
    },
    {
     "data": {
      "application/vnd.jupyter.widget-view+json": {
       "model_id": "",
       "version_major": 2,
       "version_minor": 0
      },
      "text/plain": [
       "  0%|          | 0/5 [00:00<?, ?it/s]"
      ]
     },
     "metadata": {},
     "output_type": "display_data"
    },
    {
     "data": {
      "application/vnd.jupyter.widget-view+json": {
       "model_id": "",
       "version_major": 2,
       "version_minor": 0
      },
      "text/plain": [
       "  0%|          | 0/5 [00:00<?, ?it/s]"
      ]
     },
     "metadata": {},
     "output_type": "display_data"
    },
    {
     "data": {
      "application/vnd.jupyter.widget-view+json": {
       "model_id": "",
       "version_major": 2,
       "version_minor": 0
      },
      "text/plain": [
       "  0%|          | 0/5 [00:00<?, ?it/s]"
      ]
     },
     "metadata": {},
     "output_type": "display_data"
    },
    {
     "data": {
      "application/vnd.jupyter.widget-view+json": {
       "model_id": "",
       "version_major": 2,
       "version_minor": 0
      },
      "text/plain": [
       "  0%|          | 0/5 [00:00<?, ?it/s]"
      ]
     },
     "metadata": {},
     "output_type": "display_data"
    },
    {
     "data": {
      "application/vnd.jupyter.widget-view+json": {
       "model_id": "",
       "version_major": 2,
       "version_minor": 0
      },
      "text/plain": [
       "  0%|          | 0/5 [00:00<?, ?it/s]"
      ]
     },
     "metadata": {},
     "output_type": "display_data"
    },
    {
     "name": "stdout",
     "output_type": "stream",
     "text": [
      "Step 5: cost = 0.002595515029207167, relative excess = 0.16279073308480574\n"
     ]
    },
    {
     "data": {
      "application/vnd.jupyter.widget-view+json": {
       "model_id": "",
       "version_major": 2,
       "version_minor": 0
      },
      "text/plain": [
       "  0%|          | 0/5 [00:00<?, ?it/s]"
      ]
     },
     "metadata": {},
     "output_type": "display_data"
    },
    {
     "data": {
      "application/vnd.jupyter.widget-view+json": {
       "model_id": "",
       "version_major": 2,
       "version_minor": 0
      },
      "text/plain": [
       "  0%|          | 0/5 [00:00<?, ?it/s]"
      ]
     },
     "metadata": {},
     "output_type": "display_data"
    },
    {
     "data": {
      "application/vnd.jupyter.widget-view+json": {
       "model_id": "",
       "version_major": 2,
       "version_minor": 0
      },
      "text/plain": [
       "  0%|          | 0/5 [00:00<?, ?it/s]"
      ]
     },
     "metadata": {},
     "output_type": "display_data"
    },
    {
     "data": {
      "application/vnd.jupyter.widget-view+json": {
       "model_id": "",
       "version_major": 2,
       "version_minor": 0
      },
      "text/plain": [
       "  0%|          | 0/5 [00:00<?, ?it/s]"
      ]
     },
     "metadata": {},
     "output_type": "display_data"
    },
    {
     "data": {
      "application/vnd.jupyter.widget-view+json": {
       "model_id": "",
       "version_major": 2,
       "version_minor": 0
      },
      "text/plain": [
       "  0%|          | 0/5 [00:00<?, ?it/s]"
      ]
     },
     "metadata": {},
     "output_type": "display_data"
    },
    {
     "data": {
      "application/vnd.jupyter.widget-view+json": {
       "model_id": "",
       "version_major": 2,
       "version_minor": 0
      },
      "text/plain": [
       "  0%|          | 0/5 [00:00<?, ?it/s]"
      ]
     },
     "metadata": {},
     "output_type": "display_data"
    },
    {
     "data": {
      "application/vnd.jupyter.widget-view+json": {
       "model_id": "",
       "version_major": 2,
       "version_minor": 0
      },
      "text/plain": [
       "  0%|          | 0/5 [00:00<?, ?it/s]"
      ]
     },
     "metadata": {},
     "output_type": "display_data"
    },
    {
     "data": {
      "application/vnd.jupyter.widget-view+json": {
       "model_id": "",
       "version_major": 2,
       "version_minor": 0
      },
      "text/plain": [
       "  0%|          | 0/5 [00:00<?, ?it/s]"
      ]
     },
     "metadata": {},
     "output_type": "display_data"
    },
    {
     "data": {
      "application/vnd.jupyter.widget-view+json": {
       "model_id": "",
       "version_major": 2,
       "version_minor": 0
      },
      "text/plain": [
       "  0%|          | 0/5 [00:00<?, ?it/s]"
      ]
     },
     "metadata": {},
     "output_type": "display_data"
    },
    {
     "data": {
      "application/vnd.jupyter.widget-view+json": {
       "model_id": "",
       "version_major": 2,
       "version_minor": 0
      },
      "text/plain": [
       "  0%|          | 0/5 [00:00<?, ?it/s]"
      ]
     },
     "metadata": {},
     "output_type": "display_data"
    },
    {
     "name": "stdout",
     "output_type": "stream",
     "text": [
      "Step 10: cost = 0.0021338278366589943, relative excess = -0.04404512917677478\n"
     ]
    },
    {
     "data": {
      "application/vnd.jupyter.widget-view+json": {
       "model_id": "",
       "version_major": 2,
       "version_minor": 0
      },
      "text/plain": [
       "  0%|          | 0/5 [00:00<?, ?it/s]"
      ]
     },
     "metadata": {},
     "output_type": "display_data"
    },
    {
     "data": {
      "application/vnd.jupyter.widget-view+json": {
       "model_id": "",
       "version_major": 2,
       "version_minor": 0
      },
      "text/plain": [
       "  0%|          | 0/5 [00:00<?, ?it/s]"
      ]
     },
     "metadata": {},
     "output_type": "display_data"
    },
    {
     "data": {
      "application/vnd.jupyter.widget-view+json": {
       "model_id": "",
       "version_major": 2,
       "version_minor": 0
      },
      "text/plain": [
       "  0%|          | 0/5 [00:00<?, ?it/s]"
      ]
     },
     "metadata": {},
     "output_type": "display_data"
    },
    {
     "data": {
      "application/vnd.jupyter.widget-view+json": {
       "model_id": "",
       "version_major": 2,
       "version_minor": 0
      },
      "text/plain": [
       "  0%|          | 0/5 [00:00<?, ?it/s]"
      ]
     },
     "metadata": {},
     "output_type": "display_data"
    },
    {
     "data": {
      "application/vnd.jupyter.widget-view+json": {
       "model_id": "",
       "version_major": 2,
       "version_minor": 0
      },
      "text/plain": [
       "  0%|          | 0/5 [00:00<?, ?it/s]"
      ]
     },
     "metadata": {},
     "output_type": "display_data"
    },
    {
     "data": {
      "application/vnd.jupyter.widget-view+json": {
       "model_id": "",
       "version_major": 2,
       "version_minor": 0
      },
      "text/plain": [
       "  0%|          | 0/5 [00:00<?, ?it/s]"
      ]
     },
     "metadata": {},
     "output_type": "display_data"
    },
    {
     "data": {
      "application/vnd.jupyter.widget-view+json": {
       "model_id": "",
       "version_major": 2,
       "version_minor": 0
      },
      "text/plain": [
       "  0%|          | 0/5 [00:00<?, ?it/s]"
      ]
     },
     "metadata": {},
     "output_type": "display_data"
    },
    {
     "data": {
      "application/vnd.jupyter.widget-view+json": {
       "model_id": "",
       "version_major": 2,
       "version_minor": 0
      },
      "text/plain": [
       "  0%|          | 0/5 [00:00<?, ?it/s]"
      ]
     },
     "metadata": {},
     "output_type": "display_data"
    },
    {
     "data": {
      "application/vnd.jupyter.widget-view+json": {
       "model_id": "",
       "version_major": 2,
       "version_minor": 0
      },
      "text/plain": [
       "  0%|          | 0/5 [00:00<?, ?it/s]"
      ]
     },
     "metadata": {},
     "output_type": "display_data"
    },
    {
     "data": {
      "application/vnd.jupyter.widget-view+json": {
       "model_id": "",
       "version_major": 2,
       "version_minor": 0
      },
      "text/plain": [
       "  0%|          | 0/5 [00:00<?, ?it/s]"
      ]
     },
     "metadata": {},
     "output_type": "display_data"
    },
    {
     "name": "stdout",
     "output_type": "stream",
     "text": [
      "Step 15: cost = 0.0026404829752033326, relative excess = 0.18293637289108777\n"
     ]
    },
    {
     "data": {
      "application/vnd.jupyter.widget-view+json": {
       "model_id": "",
       "version_major": 2,
       "version_minor": 0
      },
      "text/plain": [
       "  0%|          | 0/5 [00:00<?, ?it/s]"
      ]
     },
     "metadata": {},
     "output_type": "display_data"
    },
    {
     "data": {
      "application/vnd.jupyter.widget-view+json": {
       "model_id": "",
       "version_major": 2,
       "version_minor": 0
      },
      "text/plain": [
       "  0%|          | 0/5 [00:00<?, ?it/s]"
      ]
     },
     "metadata": {},
     "output_type": "display_data"
    },
    {
     "data": {
      "application/vnd.jupyter.widget-view+json": {
       "model_id": "",
       "version_major": 2,
       "version_minor": 0
      },
      "text/plain": [
       "  0%|          | 0/5 [00:00<?, ?it/s]"
      ]
     },
     "metadata": {},
     "output_type": "display_data"
    },
    {
     "data": {
      "application/vnd.jupyter.widget-view+json": {
       "model_id": "",
       "version_major": 2,
       "version_minor": 0
      },
      "text/plain": [
       "  0%|          | 0/5 [00:00<?, ?it/s]"
      ]
     },
     "metadata": {},
     "output_type": "display_data"
    },
    {
     "data": {
      "application/vnd.jupyter.widget-view+json": {
       "model_id": "",
       "version_major": 2,
       "version_minor": 0
      },
      "text/plain": [
       "  0%|          | 0/5 [00:00<?, ?it/s]"
      ]
     },
     "metadata": {},
     "output_type": "display_data"
    },
    {
     "data": {
      "application/vnd.jupyter.widget-view+json": {
       "model_id": "",
       "version_major": 2,
       "version_minor": 0
      },
      "text/plain": [
       "  0%|          | 0/5 [00:00<?, ?it/s]"
      ]
     },
     "metadata": {},
     "output_type": "display_data"
    },
    {
     "data": {
      "application/vnd.jupyter.widget-view+json": {
       "model_id": "",
       "version_major": 2,
       "version_minor": 0
      },
      "text/plain": [
       "  0%|          | 0/5 [00:00<?, ?it/s]"
      ]
     },
     "metadata": {},
     "output_type": "display_data"
    },
    {
     "data": {
      "application/vnd.jupyter.widget-view+json": {
       "model_id": "",
       "version_major": 2,
       "version_minor": 0
      },
      "text/plain": [
       "  0%|          | 0/5 [00:00<?, ?it/s]"
      ]
     },
     "metadata": {},
     "output_type": "display_data"
    },
    {
     "data": {
      "application/vnd.jupyter.widget-view+json": {
       "model_id": "",
       "version_major": 2,
       "version_minor": 0
      },
      "text/plain": [
       "  0%|          | 0/5 [00:00<?, ?it/s]"
      ]
     },
     "metadata": {},
     "output_type": "display_data"
    },
    {
     "data": {
      "application/vnd.jupyter.widget-view+json": {
       "model_id": "",
       "version_major": 2,
       "version_minor": 0
      },
      "text/plain": [
       "  0%|          | 0/5 [00:00<?, ?it/s]"
      ]
     },
     "metadata": {},
     "output_type": "display_data"
    },
    {
     "name": "stdout",
     "output_type": "stream",
     "text": [
      "Step 20: cost = 0.0025303923991642856, relative excess = 0.13361579482559496\n"
     ]
    },
    {
     "data": {
      "application/vnd.jupyter.widget-view+json": {
       "model_id": "",
       "version_major": 2,
       "version_minor": 0
      },
      "text/plain": [
       "  0%|          | 0/5 [00:00<?, ?it/s]"
      ]
     },
     "metadata": {},
     "output_type": "display_data"
    },
    {
     "data": {
      "application/vnd.jupyter.widget-view+json": {
       "model_id": "",
       "version_major": 2,
       "version_minor": 0
      },
      "text/plain": [
       "  0%|          | 0/5 [00:00<?, ?it/s]"
      ]
     },
     "metadata": {},
     "output_type": "display_data"
    },
    {
     "data": {
      "application/vnd.jupyter.widget-view+json": {
       "model_id": "",
       "version_major": 2,
       "version_minor": 0
      },
      "text/plain": [
       "  0%|          | 0/5 [00:00<?, ?it/s]"
      ]
     },
     "metadata": {},
     "output_type": "display_data"
    },
    {
     "data": {
      "application/vnd.jupyter.widget-view+json": {
       "model_id": "",
       "version_major": 2,
       "version_minor": 0
      },
      "text/plain": [
       "  0%|          | 0/5 [00:00<?, ?it/s]"
      ]
     },
     "metadata": {},
     "output_type": "display_data"
    },
    {
     "data": {
      "application/vnd.jupyter.widget-view+json": {
       "model_id": "",
       "version_major": 2,
       "version_minor": 0
      },
      "text/plain": [
       "  0%|          | 0/5 [00:00<?, ?it/s]"
      ]
     },
     "metadata": {},
     "output_type": "display_data"
    },
    {
     "data": {
      "application/vnd.jupyter.widget-view+json": {
       "model_id": "",
       "version_major": 2,
       "version_minor": 0
      },
      "text/plain": [
       "  0%|          | 0/5 [00:00<?, ?it/s]"
      ]
     },
     "metadata": {},
     "output_type": "display_data"
    },
    {
     "data": {
      "application/vnd.jupyter.widget-view+json": {
       "model_id": "",
       "version_major": 2,
       "version_minor": 0
      },
      "text/plain": [
       "  0%|          | 0/5 [00:00<?, ?it/s]"
      ]
     },
     "metadata": {},
     "output_type": "display_data"
    },
    {
     "data": {
      "application/vnd.jupyter.widget-view+json": {
       "model_id": "",
       "version_major": 2,
       "version_minor": 0
      },
      "text/plain": [
       "  0%|          | 0/5 [00:00<?, ?it/s]"
      ]
     },
     "metadata": {},
     "output_type": "display_data"
    },
    {
     "data": {
      "application/vnd.jupyter.widget-view+json": {
       "model_id": "",
       "version_major": 2,
       "version_minor": 0
      },
      "text/plain": [
       "  0%|          | 0/5 [00:00<?, ?it/s]"
      ]
     },
     "metadata": {},
     "output_type": "display_data"
    },
    {
     "data": {
      "application/vnd.jupyter.widget-view+json": {
       "model_id": "",
       "version_major": 2,
       "version_minor": 0
      },
      "text/plain": [
       "  0%|          | 0/5 [00:00<?, ?it/s]"
      ]
     },
     "metadata": {},
     "output_type": "display_data"
    },
    {
     "name": "stdout",
     "output_type": "stream",
     "text": [
      "Step 25: cost = 0.00305777488878807, relative excess = 0.36988315017704937\n"
     ]
    },
    {
     "data": {
      "application/vnd.jupyter.widget-view+json": {
       "model_id": "",
       "version_major": 2,
       "version_minor": 0
      },
      "text/plain": [
       "  0%|          | 0/5 [00:00<?, ?it/s]"
      ]
     },
     "metadata": {},
     "output_type": "display_data"
    },
    {
     "data": {
      "application/vnd.jupyter.widget-view+json": {
       "model_id": "",
       "version_major": 2,
       "version_minor": 0
      },
      "text/plain": [
       "  0%|          | 0/5 [00:00<?, ?it/s]"
      ]
     },
     "metadata": {},
     "output_type": "display_data"
    },
    {
     "data": {
      "application/vnd.jupyter.widget-view+json": {
       "model_id": "",
       "version_major": 2,
       "version_minor": 0
      },
      "text/plain": [
       "  0%|          | 0/5 [00:00<?, ?it/s]"
      ]
     },
     "metadata": {},
     "output_type": "display_data"
    },
    {
     "data": {
      "application/vnd.jupyter.widget-view+json": {
       "model_id": "",
       "version_major": 2,
       "version_minor": 0
      },
      "text/plain": [
       "  0%|          | 0/5 [00:00<?, ?it/s]"
      ]
     },
     "metadata": {},
     "output_type": "display_data"
    },
    {
     "data": {
      "application/vnd.jupyter.widget-view+json": {
       "model_id": "",
       "version_major": 2,
       "version_minor": 0
      },
      "text/plain": [
       "  0%|          | 0/5 [00:00<?, ?it/s]"
      ]
     },
     "metadata": {},
     "output_type": "display_data"
    },
    {
     "data": {
      "application/vnd.jupyter.widget-view+json": {
       "model_id": "",
       "version_major": 2,
       "version_minor": 0
      },
      "text/plain": [
       "  0%|          | 0/5 [00:00<?, ?it/s]"
      ]
     },
     "metadata": {},
     "output_type": "display_data"
    },
    {
     "data": {
      "application/vnd.jupyter.widget-view+json": {
       "model_id": "",
       "version_major": 2,
       "version_minor": 0
      },
      "text/plain": [
       "  0%|          | 0/5 [00:00<?, ?it/s]"
      ]
     },
     "metadata": {},
     "output_type": "display_data"
    },
    {
     "data": {
      "application/vnd.jupyter.widget-view+json": {
       "model_id": "",
       "version_major": 2,
       "version_minor": 0
      },
      "text/plain": [
       "  0%|          | 0/5 [00:00<?, ?it/s]"
      ]
     },
     "metadata": {},
     "output_type": "display_data"
    },
    {
     "data": {
      "application/vnd.jupyter.widget-view+json": {
       "model_id": "",
       "version_major": 2,
       "version_minor": 0
      },
      "text/plain": [
       "  0%|          | 0/5 [00:00<?, ?it/s]"
      ]
     },
     "metadata": {},
     "output_type": "display_data"
    },
    {
     "data": {
      "application/vnd.jupyter.widget-view+json": {
       "model_id": "",
       "version_major": 2,
       "version_minor": 0
      },
      "text/plain": [
       "  0%|          | 0/5 [00:00<?, ?it/s]"
      ]
     },
     "metadata": {},
     "output_type": "display_data"
    },
    {
     "name": "stdout",
     "output_type": "stream",
     "text": [
      "Step 30: cost = 0.002161737926181124, relative excess = -0.031541409070860754\n"
     ]
    },
    {
     "data": {
      "application/vnd.jupyter.widget-view+json": {
       "model_id": "",
       "version_major": 2,
       "version_minor": 0
      },
      "text/plain": [
       "  0%|          | 0/5 [00:00<?, ?it/s]"
      ]
     },
     "metadata": {},
     "output_type": "display_data"
    },
    {
     "data": {
      "application/vnd.jupyter.widget-view+json": {
       "model_id": "",
       "version_major": 2,
       "version_minor": 0
      },
      "text/plain": [
       "  0%|          | 0/5 [00:00<?, ?it/s]"
      ]
     },
     "metadata": {},
     "output_type": "display_data"
    },
    {
     "data": {
      "application/vnd.jupyter.widget-view+json": {
       "model_id": "",
       "version_major": 2,
       "version_minor": 0
      },
      "text/plain": [
       "  0%|          | 0/5 [00:00<?, ?it/s]"
      ]
     },
     "metadata": {},
     "output_type": "display_data"
    },
    {
     "data": {
      "application/vnd.jupyter.widget-view+json": {
       "model_id": "",
       "version_major": 2,
       "version_minor": 0
      },
      "text/plain": [
       "  0%|          | 0/5 [00:00<?, ?it/s]"
      ]
     },
     "metadata": {},
     "output_type": "display_data"
    },
    {
     "data": {
      "application/vnd.jupyter.widget-view+json": {
       "model_id": "",
       "version_major": 2,
       "version_minor": 0
      },
      "text/plain": [
       "  0%|          | 0/5 [00:00<?, ?it/s]"
      ]
     },
     "metadata": {},
     "output_type": "display_data"
    },
    {
     "data": {
      "application/vnd.jupyter.widget-view+json": {
       "model_id": "",
       "version_major": 2,
       "version_minor": 0
      },
      "text/plain": [
       "  0%|          | 0/5 [00:00<?, ?it/s]"
      ]
     },
     "metadata": {},
     "output_type": "display_data"
    },
    {
     "data": {
      "application/vnd.jupyter.widget-view+json": {
       "model_id": "",
       "version_major": 2,
       "version_minor": 0
      },
      "text/plain": [
       "  0%|          | 0/5 [00:00<?, ?it/s]"
      ]
     },
     "metadata": {},
     "output_type": "display_data"
    },
    {
     "data": {
      "application/vnd.jupyter.widget-view+json": {
       "model_id": "",
       "version_major": 2,
       "version_minor": 0
      },
      "text/plain": [
       "  0%|          | 0/5 [00:00<?, ?it/s]"
      ]
     },
     "metadata": {},
     "output_type": "display_data"
    },
    {
     "data": {
      "application/vnd.jupyter.widget-view+json": {
       "model_id": "",
       "version_major": 2,
       "version_minor": 0
      },
      "text/plain": [
       "  0%|          | 0/5 [00:00<?, ?it/s]"
      ]
     },
     "metadata": {},
     "output_type": "display_data"
    },
    {
     "data": {
      "application/vnd.jupyter.widget-view+json": {
       "model_id": "",
       "version_major": 2,
       "version_minor": 0
      },
      "text/plain": [
       "  0%|          | 0/5 [00:00<?, ?it/s]"
      ]
     },
     "metadata": {},
     "output_type": "display_data"
    },
    {
     "name": "stdout",
     "output_type": "stream",
     "text": [
      "Step 35: cost = 0.0023191346483498777, relative excess = 0.03897232246074064\n"
     ]
    },
    {
     "data": {
      "application/vnd.jupyter.widget-view+json": {
       "model_id": "",
       "version_major": 2,
       "version_minor": 0
      },
      "text/plain": [
       "  0%|          | 0/5 [00:00<?, ?it/s]"
      ]
     },
     "metadata": {},
     "output_type": "display_data"
    },
    {
     "data": {
      "application/vnd.jupyter.widget-view+json": {
       "model_id": "",
       "version_major": 2,
       "version_minor": 0
      },
      "text/plain": [
       "  0%|          | 0/5 [00:00<?, ?it/s]"
      ]
     },
     "metadata": {},
     "output_type": "display_data"
    },
    {
     "data": {
      "application/vnd.jupyter.widget-view+json": {
       "model_id": "",
       "version_major": 2,
       "version_minor": 0
      },
      "text/plain": [
       "  0%|          | 0/5 [00:00<?, ?it/s]"
      ]
     },
     "metadata": {},
     "output_type": "display_data"
    },
    {
     "data": {
      "application/vnd.jupyter.widget-view+json": {
       "model_id": "",
       "version_major": 2,
       "version_minor": 0
      },
      "text/plain": [
       "  0%|          | 0/5 [00:00<?, ?it/s]"
      ]
     },
     "metadata": {},
     "output_type": "display_data"
    },
    {
     "data": {
      "application/vnd.jupyter.widget-view+json": {
       "model_id": "",
       "version_major": 2,
       "version_minor": 0
      },
      "text/plain": [
       "  0%|          | 0/5 [00:00<?, ?it/s]"
      ]
     },
     "metadata": {},
     "output_type": "display_data"
    },
    {
     "data": {
      "application/vnd.jupyter.widget-view+json": {
       "model_id": "",
       "version_major": 2,
       "version_minor": 0
      },
      "text/plain": [
       "  0%|          | 0/5 [00:00<?, ?it/s]"
      ]
     },
     "metadata": {},
     "output_type": "display_data"
    },
    {
     "data": {
      "application/vnd.jupyter.widget-view+json": {
       "model_id": "",
       "version_major": 2,
       "version_minor": 0
      },
      "text/plain": [
       "  0%|          | 0/5 [00:00<?, ?it/s]"
      ]
     },
     "metadata": {},
     "output_type": "display_data"
    },
    {
     "data": {
      "application/vnd.jupyter.widget-view+json": {
       "model_id": "",
       "version_major": 2,
       "version_minor": 0
      },
      "text/plain": [
       "  0%|          | 0/5 [00:00<?, ?it/s]"
      ]
     },
     "metadata": {},
     "output_type": "display_data"
    }
   ],
   "source": [
    "# train variational quantum PCA\n",
    "n_step = 50\n",
    "n_batch = 5\n",
    "\n",
    "def cost():\n",
    "    c = 0\n",
    "    for b in tqdm(range(n_batch), leave=False):\n",
    "        sample_pos = get_sample(pl2)\n",
    "        c += loss_qpca(sample_pos, n_layers, var_params) / n_batch\n",
    "    return c\n",
    "\n",
    "# cost_list = []\n",
    "for step in tqdm(range(n_step)):\n",
    "    opt.minimize(cost, var_params)\n",
    "    cost_val = cost().numpy()\n",
    "    cost_list.append(cost_val)\n",
    "    if step % 5 == 0:\n",
    "        tqdm.write(\"Step {}: cost = {}, relative excess = {}\".format(step, cost_val, (cost_val - loss_minimum) / (loss_minimum)))\n",
    "        np.savetxt('./ckptBAS.csv', var_params.numpy(), delimiter=',')"
   ]
  },
  {
   "cell_type": "code",
   "execution_count": 70,
   "id": "ed259b57",
   "metadata": {},
   "outputs": [
    {
     "data": {
      "image/png": "[encoded data removed]",
      "text/plain": [
       "<Figure size 432x288 with 1 Axes>"
      ]
     },
     "metadata": {
      "needs_background": "light"
     },
     "output_type": "display_data"
    }
   ],
   "source": [
    "# plot loss\n",
    "# plt.plot(cost_list_sgd[:400], label='SGD')\n",
    "plt.plot(cost_list, label='Adam')\n",
    "# plt.hlines(loss_maximum, 0, n_step, colors='r', linestyles='--', label='maximum')\n",
    "plt.hlines(loss_minimum, 0, len(cost_list), colors='r', linestyles='--', label='minimum')\n",
    "plt.xlabel('Steps')\n",
    "plt.ylabel('Loss')\n",
    "plt.legend()\n",
    "plt.show()"
   ]
  },
  {
   "cell_type": "code",
   "execution_count": 71,
   "id": "bd1c8961",
   "metadata": {},
   "outputs": [],
   "source": [
    "dev_gen = qml.device('default.mixed', wires=n)\n",
    "@qml.qnode(dev_gen, interface=None)\n",
    "def get_pca_state(n_layers, variational_params):\n",
    "    '''\n",
    "        Generate state via qPCA^dagger.\n",
    "    '''\n",
    "    qml.QubitDensityMatrix(np.diag(pl2), wires=list(range(n)))\n",
    "    variational_qpca(n_layers, variational_params)\n",
    "    return qml.density_matrix(list(range(n)))"
   ]
  },
  {
   "cell_type": "code",
   "execution_count": 72,
   "id": "94d2dd96",
   "metadata": {},
   "outputs": [
    {
     "name": "stdout",
     "output_type": "stream",
     "text": [
      "eigenvalues:  [1.00000000e-01 1.00000000e-01 1.00000000e-01 1.00000000e-01\n",
      " 1.00000000e-01 1.00000000e-01 1.00000000e-01 1.00000000e-01\n",
      " 1.00000000e-01 1.00000000e-01 9.99200722e-18 9.99200722e-18\n",
      " 9.99200722e-18 9.99200722e-18 9.99200722e-18 9.99200722e-18\n",
      " 9.99200722e-18 9.99200722e-18 9.99200722e-18 9.99200722e-18]\n",
      "pca results:  [0.09905563 0.09905284 0.0988671  0.09879959 0.0979166  0.09764807\n",
      " 0.09646599 0.0938546  0.08863891 0.07355176 0.02990271 0.00384767\n",
      " 0.00379607 0.00370253 0.00258521 0.00222486 0.00191739 0.00091406\n",
      " 0.00079252 0.00049167]\n",
      "eigenvalue mse:  2.8884109823671804e-05\n"
     ]
    },
    {
     "data": {
      "image/png": "[encoded data removed]",
      "text/plain": [
       "<Figure size 1152x576 with 12 Axes>"
      ]
     },
     "metadata": {
      "needs_background": "light"
     },
     "output_type": "display_data"
    }
   ],
   "source": [
    "print('eigenvalues: ', S[:20])\n",
    "\n",
    "# extract and compute eigenvalues from qpca\n",
    "pca_state = get_pca_state(n_layers, var_params)\n",
    "pca_eigen, order = np.unique(-np.abs(np.diag(pca_state)), return_inverse=True)\n",
    "pca_eigen = -pca_eigen\n",
    "\n",
    "print('pca results: ', pca_eigen[:20])\n",
    "print('eigenvalue mse: ', np.mean((pca_eigen - S) ** 2))\n",
    "\n",
    "# plot target and pca state\n",
    "fig, ax = plt.subplots(2, 3, figsize=(16, 8))\n",
    "\n",
    "im_target_real = ax[0][0].imshow(np.real(target_state))\n",
    "ax[0][0].set_title('Real Part of Target State')\n",
    "plt.colorbar(im_target_real, ax=ax[0][0])\n",
    "im_target_imag = ax[0][1].imshow(np.imag(target_state))\n",
    "ax[0][1].set_title('Imaginary Part of Target State')\n",
    "plt.colorbar(im_target_imag, ax=ax[0][1])\n",
    "im_target_abs = ax[0][2].imshow(np.abs(target_state))\n",
    "ax[0][2].set_title('Absolute Value of Target State')\n",
    "plt.colorbar(im_target_abs, ax=ax[0][2])\n",
    "\n",
    "im_pca_real = ax[1][0].imshow(np.real(pca_state))\n",
    "ax[1][0].set_title('Real Part of PCA Result')\n",
    "plt.colorbar(im_pca_real, ax=ax[1][0])\n",
    "im_pca_imag = ax[1][1].imshow(np.imag(pca_state))\n",
    "ax[1][1].set_title('Imaginary Part of PCA Result')\n",
    "plt.colorbar(im_pca_imag, ax=ax[1][1])\n",
    "im_pca_abs = ax[1][2].imshow(np.abs(pca_state))\n",
    "ax[1][2].set_title('Absolute Value of PCA Result')\n",
    "plt.colorbar(im_pca_abs, ax=ax[1][2])\n",
    "\n",
    "plt.show()"
   ]
  },
  {
   "cell_type": "code",
   "execution_count": 73,
   "id": "7ee6e072",
   "metadata": {},
   "outputs": [],
   "source": [
    "dev_gen = qml.device('default.mixed', wires=n)\n",
    "@qml.qnode(dev_gen, interface=None)\n",
    "def generator(pca_eigs, n_layers, variational_params):\n",
    "    '''\n",
    "        Generate state via qPCA^dagger.\n",
    "    '''\n",
    "    qml.QubitDensityMatrix(np.diag(pca_eigs), wires=list(range(n)))\n",
    "    qml.adjoint(variational_qpca)(n_layers, variational_params)\n",
    "    return qml.density_matrix(list(range(n)))"
   ]
  },
  {
   "cell_type": "code",
   "execution_count": 74,
   "id": "c77ff383",
   "metadata": {},
   "outputs": [
    {
     "name": "stdout",
     "output_type": "stream",
     "text": [
      "mse of generated state:  5.745842994615682e-05\n"
     ]
    },
    {
     "data": {
      "image/png": "[encoded data removed]",
      "text/plain": [
       "<Figure size 1152x864 with 18 Axes>"
      ]
     },
     "metadata": {
      "needs_background": "light"
     },
     "output_type": "display_data"
    }
   ],
   "source": [
    "# truncate eigenvalues\n",
    "n_trunc = 3\n",
    "trunc_pca_eigs = np.pad(pca_eigen[:n_trunc]/np.sum(pca_eigen[:n_trunc]), (0, 2 ** n - n_trunc), 'constant')[order]\n",
    "gen_state = generator(trunc_pca_eigs, n_layers, var_params)\n",
    "\n",
    "# print('real eigs sorted:\\n', S)\n",
    "# print('pca eigs sorted:\\n', pca_eigen)\n",
    "# print('pca eigs:\\n', np.diag(pca_state))\n",
    "# print('trunc pca eigs:\\n', trunc_pca_eigs)\n",
    "\n",
    "print('mse of generated state: ', np.mean(np.abs(gen_state - target_state)**2))\n",
    "\n",
    "fig, ax = plt.subplots(3, 3, figsize=(16, 12))\n",
    "\n",
    "im_target_real = ax[0][0].imshow(np.real(target_state))\n",
    "ax[0][0].set_title('Real Part of Target State')\n",
    "plt.colorbar(im_target_real, ax=ax[0][0])\n",
    "im_target_imag = ax[0][1].imshow(np.imag(target_state))\n",
    "ax[0][1].set_title('Imaginary Part of Target State')\n",
    "plt.colorbar(im_target_imag, ax=ax[0][1])\n",
    "im_target_abs = ax[0][2].imshow(np.abs(target_state))\n",
    "ax[0][2].set_title('Absolute Value of Target State')\n",
    "plt.colorbar(im_target_abs, ax=ax[0][2])\n",
    "\n",
    "im_pca_real = ax[1][0].imshow(np.real(pca_state))\n",
    "ax[1][0].set_title('Real Part of PCA Result')\n",
    "plt.colorbar(im_pca_real, ax=ax[1][0])\n",
    "im_pca_imag = ax[1][1].imshow(np.imag(pca_state))\n",
    "ax[1][1].set_title('Imaginary Part of PCA Result')\n",
    "plt.colorbar(im_pca_imag, ax=ax[1][1])\n",
    "im_pca_abs = ax[1][2].imshow(np.abs(pca_state))\n",
    "ax[1][2].set_title('Absolute Value of PCA Result')\n",
    "plt.colorbar(im_pca_abs, ax=ax[1][2])\n",
    "\n",
    "im_gen_real = ax[2][0].imshow(np.real(gen_state))\n",
    "ax[2][0].set_title('Real Part of Generated State')\n",
    "plt.colorbar(im_target_real, ax=ax[2][0])\n",
    "im_gen_imag = ax[2][1].imshow(np.imag(gen_state))\n",
    "ax[2][1].set_title('Imaginary Part of Generated State')\n",
    "plt.colorbar(im_target_imag, ax=ax[2][1])\n",
    "im_gen_abs = ax[2][2].imshow(np.abs(gen_state))\n",
    "ax[2][2].set_title('Absolute Value of Generated State')\n",
    "plt.colorbar(im_target_abs, ax=ax[2][2])\n",
    "\n",
    "plt.show()"
   ]
  },
  {
   "cell_type": "code",
   "execution_count": 90,
   "id": "d0a303e0",
   "metadata": {},
   "outputs": [],
   "source": [
    "dev_sam = qml.device('qulacs.simulator', wires=n, shots=1000000)\n",
    "@qml.qnode(dev_sam, interface=None)\n",
    "def generate_samples(pca_eigs, n_layers, variational_params):\n",
    "    '''\n",
    "        Generate state via qPCA^dagger.\n",
    "    '''\n",
    "    state = np.zeros(2**n)\n",
    "    sample_pos = np.random.choice(np.arange(0, 2**n), p=pca_eigs)\n",
    "    state[sample_pos] = 1\n",
    "    qml.QubitStateVector(state, wires=list(range(n)))\n",
    "    qml.adjoint(variational_qpca)(n_layers, variational_params)\n",
    "    return qml.sample()"
   ]
  },
  {
   "cell_type": "code",
   "execution_count": 99,
   "id": "6683ed7c",
   "metadata": {},
   "outputs": [
    {
     "data": {
      "image/png": "[encoded data removed]",
      "text/plain": [
       "<Figure size 432x288 with 25 Axes>"
      ]
     },
     "metadata": {},
     "output_type": "display_data"
    }
   ],
   "source": [
    "gen_samples = generate_samples(trunc_pca_eigs, n_layers, var_params)\n",
    "plot_bs(gen_samples.reshape(-1, 2, 3), (5, 5))"
   ]
  },
  {
   "cell_type": "code",
   "execution_count": 100,
   "id": "44ab25d2",
   "metadata": {},
   "outputs": [
    {
     "data": {
      "text/plain": [
       "0.990555"
      ]
     },
     "execution_count": 100,
     "metadata": {},
     "output_type": "execute_result"
    }
   ],
   "source": [
    "np.average(is_bs(gen_samples.reshape(-1, 2, 3)))"
   ]
  },
  {
   "cell_type": "code",
   "execution_count": null,
   "id": "7e69692b",
   "metadata": {},
   "outputs": [],
   "source": []
  }
 ],
 "metadata": {
  "kernelspec": {
   "display_name": "Python 3 (ipykernel)",
   "language": "python",
   "name": "python3"
  },
  "language_info": {
   "codemirror_mode": {
    "name": "ipython",
    "version": 3
   },
   "file_extension": ".py",
   "mimetype": "text/x-python",
   "name": "python",
   "nbconvert_exporter": "python",
   "pygments_lexer": "ipython3",
   "version": "3.9.7"
  }
 },
 "nbformat": 4,
 "nbformat_minor": 5
}
