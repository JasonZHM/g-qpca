{
 "cells": [
  {
   "cell_type": "code",
   "execution_count": 56,
   "metadata": {},
   "outputs": [],
   "source": [
    "import pennylane as qml\n",
    "import numpy as np\n",
    "import tensorflow as tf\n",
    "import matplotlib.pyplot as plt\n",
    "%matplotlib inline"
   ]
  },
  {
   "cell_type": "code",
   "execution_count": 57,
   "metadata": {},
   "outputs": [],
   "source": [
    "# n qubits case\n",
    "n = 4\n",
    "dev = qml.device('default.qubit', wires=n+1)"
   ]
  },
  {
   "cell_type": "code",
   "execution_count": 58,
   "metadata": {},
   "outputs": [],
   "source": [
    "# two qubit case\n",
    "def real(angles, **kwargs):\n",
    "    for i in range(n):\n",
    "        qml.Rot(*angles, wires=i)\n",
    "    \n",
    "    qml.Hadamard(wires=n)\n",
    "\n",
    "    for i in range(n):\n",
    "        qml.CZ(wires=[i, i+1])"
   ]
  },
  {
   "cell_type": "code",
   "execution_count": 59,
   "metadata": {},
   "outputs": [],
   "source": [
    "def utheta(w, wires, **kwargs):\n",
    "    pos = 0\n",
    "    for i in range(len(wires)):\n",
    "        qml.RX(w[pos], wires=wires[i])\n",
    "        qml.RY(w[pos+1], wires=wires[i])\n",
    "        qml.RZ(w[pos+2], wires=wires[i])\n",
    "        pos += 3\n",
    "\n",
    "    for layer in range(n):\n",
    "        for i in range(len(wires)-1):\n",
    "            qml.CNOT(wires=[wires[i], wires[i+1]])\n",
    "        \n",
    "        for i in range(len(wires)):\n",
    "            qml.RX(w[pos], wires=wires[i])\n",
    "            qml.RY(w[pos+1], wires=wires[i])\n",
    "            qml.RZ(w[pos+2], wires=wires[i])\n",
    "            pos += 3\n"
   ]
  },
  {
   "cell_type": "code",
   "execution_count": 60,
   "metadata": {},
   "outputs": [],
   "source": [
    "@qml.qnode(dev, interface=\"tf\")\n",
    "def qpca(angles, theta_weights, **kwargs):\n",
    "    real(angles)\n",
    "    utheta(theta_weights, list(range(n)))\n",
    "    z = []\n",
    "    for i in range(n):\n",
    "        z.append(qml.expval(qml.PauliZ(i)))\n",
    "    return z"
   ]
  },
  {
   "cell_type": "code",
   "execution_count": 61,
   "metadata": {},
   "outputs": [],
   "source": [
    "def pcaloss(angles, theta_weights, **kwargs):\n",
    "    z = qpca(angles, theta_weights)\n",
    "    return 1 / 2 ** n / (2 ** n - 1) * tf.math.reduce_sum((z + 1) * (2 ** tf.range(n, dtype=tf.double)))"
   ]
  },
  {
   "cell_type": "code",
   "execution_count": 36,
   "metadata": {},
   "outputs": [],
   "source": [
    "angles = [np.pi / 6, np.pi / 2, np.pi / 7]\n",
    "\n",
    "np.random.seed(0)\n",
    "eps = 1e-2\n",
    "n_param = (n + 1) * 3 * n\n",
    "init_theta_weights = np.array([0] * n_param) + \\\n",
    "                   np.random.normal(scale=eps, size=(n_param,))\n",
    "theta_weights = tf.Variable(init_theta_weights)\n",
    "\n",
    "opt = tf.keras.optimizers.Adam(0.1)"
   ]
  },
  {
   "cell_type": "code",
   "execution_count": 37,
   "metadata": {},
   "outputs": [
    {
     "name": "stdout",
     "output_type": "stream",
     "text": [
      "[5.00000000e-01 5.00000000e-01 5.74888259e-17 3.84048010e-17\n",
      " 2.86995323e-17 2.16142100e-17 1.45120227e-17 1.18067555e-17\n",
      " 1.00232470e-17 5.90193846e-18 3.86791383e-18 1.29089134e-18\n",
      " 2.09579435e-33 1.16538214e-33 5.00243041e-34 2.26390137e-34]\n",
      "0.0041666666666666735\n"
     ]
    }
   ],
   "source": [
    "@qml.qnode(dev, interface=\"tf\")\n",
    "def show_real(angles, **kwargs):\n",
    "    real(angles)\n",
    "    return qml.density_matrix(list(range(n)))\n",
    "real_matrix = show_real(angles).numpy()\n",
    "U, S, V = np.linalg.svd(real_matrix)\n",
    "print(S)\n",
    "minloss = np.sum(S * np.arange(len(S))) / 2 ** n / (2 ** n - 1) * 2\n",
    "print(minloss)"
   ]
  },
  {
   "cell_type": "code",
   "execution_count": 38,
   "metadata": {},
   "outputs": [
    {
     "name": "stdout",
     "output_type": "stream",
     "text": [
      "Step 0: cost = 0.06371581445805832\n",
      "Step 5: cost = 0.037889679404620846\n",
      "Step 10: cost = 0.02017298878809917\n",
      "Step 15: cost = 0.01557961031373817\n",
      "Step 20: cost = 0.010949306051024182\n",
      "Step 25: cost = 0.006640577819045232\n",
      "Step 30: cost = 0.004967921819693237\n",
      "Step 35: cost = 0.005107150653662218\n",
      "Step 40: cost = 0.00477117672719966\n",
      "Step 45: cost = 0.00441730974690667\n",
      "Step 50: cost = 0.004331926888970736\n",
      "Step 55: cost = 0.004245736833460846\n",
      "Step 60: cost = 0.0042619852038890075\n",
      "Step 65: cost = 0.004209958907391226\n",
      "Step 70: cost = 0.0041927010041647094\n",
      "Step 75: cost = 0.004180419985148465\n",
      "Step 80: cost = 0.004175229255030104\n",
      "Step 85: cost = 0.004172117570554472\n",
      "Step 90: cost = 0.004170630481302309\n",
      "Step 95: cost = 0.004169265878118608\n",
      "Step 100: cost = 0.004168216600566929\n",
      "Step 105: cost = 0.004167728278494397\n",
      "Step 110: cost = 0.004167354954932928\n",
      "Step 115: cost = 0.004167144563904104\n",
      "Step 120: cost = 0.004166953012653949\n",
      "Step 125: cost = 0.0041668734826220966\n",
      "Step 130: cost = 0.0041668347041372835\n",
      "Step 135: cost = 0.004166773200287093\n",
      "Step 140: cost = 0.004166744123639015\n",
      "Step 145: cost = 0.004166723142473374\n",
      "Step 150: cost = 0.0041667071021577445\n",
      "Step 155: cost = 0.004166696005769642\n",
      "Step 160: cost = 0.004166688518915443\n",
      "Step 165: cost = 0.004166682238320732\n",
      "Step 170: cost = 0.004166678726204217\n",
      "Step 175: cost = 0.004166675927455083\n",
      "Step 180: cost = 0.004166673791466291\n",
      "Step 185: cost = 0.0041666722301401836\n",
      "Step 190: cost = 0.004166671182015967\n",
      "Step 195: cost = 0.004166670332510688\n",
      "Step 200: cost = 0.004166669719539358\n",
      "Step 205: cost = 0.004166669248748872\n",
      "Step 210: cost = 0.004166668878768765\n",
      "Step 215: cost = 0.00416666858272053\n",
      "Step 220: cost = 0.0041666683407944535\n",
      "Step 225: cost = 0.004166668138207366\n",
      "Step 230: cost = 0.004166667966164134\n",
      "Step 235: cost = 0.004166667816891516\n",
      "Step 240: cost = 0.00416666768633971\n",
      "Step 245: cost = 0.004166667571498277\n"
     ]
    },
    {
     "data": {
      "image/png": "[encoded data removed]",
      "text/plain": [
       "<Figure size 432x288 with 1 Axes>"
      ]
     },
     "metadata": {
      "needs_background": "light"
     },
     "output_type": "display_data"
    }
   ],
   "source": [
    "cost = lambda: pcaloss(angles, theta_weights)\n",
    "n_step = 250\n",
    "cost_list = []\n",
    "for step in range(n_step):\n",
    "    opt.minimize(cost, theta_weights)\n",
    "    cost_val = cost().numpy()\n",
    "    cost_list.append(cost_val)\n",
    "    if step % 5 == 0:\n",
    "        print(\"Step {}: cost = {}\".format(step, cost_val))\n",
    "plt.plot(np.arange(n_step), cost_list)\n",
    "plt.hlines(minloss, 0, n_step, color='r')\n",
    "plt.show()"
   ]
  },
  {
   "cell_type": "code",
   "execution_count": 39,
   "metadata": {},
   "outputs": [],
   "source": [
    "@qml.qnode(dev, interface=\"tf\")\n",
    "def show_real_diag(angles, theta_weights, **kwargs):\n",
    "    real(angles)\n",
    "    utheta(theta_weights, list(range(n)))\n",
    "    return qml.density_matrix(list(range(n)))"
   ]
  },
  {
   "cell_type": "code",
   "execution_count": 40,
   "metadata": {},
   "outputs": [
    {
     "name": "stdout",
     "output_type": "stream",
     "text": [
      "[5.00000000e-01 5.00000000e-01 5.74888259e-17 3.84048010e-17\n",
      " 2.86995323e-17 2.16142100e-17 1.45120227e-17 1.18067555e-17\n",
      " 1.00232470e-17 5.90193846e-18 3.86791383e-18 1.29089134e-18\n",
      " 2.09579435e-33 1.16538214e-33 5.00243041e-34 2.26390137e-34]\n",
      "[4.99999994e-01 4.99999993e-01 5.08575614e-09 3.58609044e-09\n",
      " 1.31660108e-09 9.10098914e-10 6.32527857e-10 5.66850621e-10\n",
      " 2.40868359e-10 1.95443669e-10 1.60988261e-10 1.15647998e-10\n",
      " 1.00019055e-10 7.75175418e-11 2.39091884e-11 4.66459773e-12]\n"
     ]
    },
    {
     "data": {
      "image/png": "[encoded data removed]",
      "text/plain": [
       "<Figure size 432x288 with 2 Axes>"
      ]
     },
     "metadata": {
      "needs_background": "light"
     },
     "output_type": "display_data"
    }
   ],
   "source": [
    "print(S)\n",
    "print(-np.sort(-np.abs(np.diag(show_real_diag(angles, theta_weights).numpy()))))\n",
    "plt.imshow(np.abs(show_real_diag(angles, theta_weights).numpy()))\n",
    "plt.colorbar()\n",
    "plt.show()"
   ]
  },
  {
   "cell_type": "code",
   "execution_count": null,
   "metadata": {},
   "outputs": [],
   "source": []
  }
 ],
 "metadata": {
  "interpreter": {
   "hash": "31f2aee4e71d21fbe5cf8b01ff0e069b9275f58929596ceb00d14d90e3e16cd6"
  },
  "kernelspec": {
   "display_name": "Python 3.8.10 64-bit",
   "name": "python3"
  },
  "language_info": {
   "codemirror_mode": {
    "name": "ipython",
    "version": 3
   },
   "file_extension": ".py",
   "mimetype": "text/x-python",
   "name": "python",
   "nbconvert_exporter": "python",
   "pygments_lexer": "ipython3",
   "version": "3.8.10"
  },
  "orig_nbformat": 4
 },
 "nbformat": 4,
 "nbformat_minor": 2
}
