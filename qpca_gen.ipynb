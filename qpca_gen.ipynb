{
 "cells": [
  {
   "cell_type": "code",
   "execution_count": 1,
   "metadata": {},
   "outputs": [],
   "source": [
    "import pennylane as qml\n",
    "import numpy as np\n",
    "import tensorflow as tf\n",
    "import matplotlib.pyplot as plt\n",
    "%matplotlib inline"
   ]
  },
  {
   "cell_type": "code",
   "execution_count": 2,
   "metadata": {},
   "outputs": [],
   "source": [
    "dev = qml.device('default.qubit', wires=3)"
   ]
  },
  {
   "cell_type": "code",
   "execution_count": 3,
   "metadata": {},
   "outputs": [],
   "source": [
    "# two qubit case\n",
    "def real(angles, **kwargs):\n",
    "    qml.Hadamard(wires=0)\n",
    "    qml.RY(np.pi / 4, wires=1)\n",
    "    qml.RY(np.pi / 4, wires=2)\n",
    "    qml.RX(np.pi / 4, wires=0)\n",
    "    qml.CNOT(wires=[0, 1])\n",
    "    qml.Rot(*angles, wires=0)\n",
    "    qml.CNOT(wires=[1, 2])\n",
    "    qml.Rot(*angles, wires=1)"
   ]
  },
  {
   "cell_type": "code",
   "execution_count": 4,
   "metadata": {},
   "outputs": [],
   "source": [
    "def utheta(w, wires, **kwargs):\n",
    "    qml.Hadamard(wires=wires[0])\n",
    "    qml.RX(w[0], wires=wires[0])\n",
    "    qml.RX(w[1], wires=wires[1])\n",
    "    qml.RY(w[2], wires=wires[0])\n",
    "    qml.RY(w[3], wires=wires[1])\n",
    "    qml.RZ(w[4], wires=wires[0])\n",
    "    qml.RZ(w[5], wires=wires[1])\n",
    "    qml.CNOT(wires=[wires[0], wires[1]])\n",
    "    qml.RX(w[6], wires=wires[0])\n",
    "    qml.RY(w[7], wires=wires[0])\n",
    "    qml.RZ(w[8], wires=wires[0])"
   ]
  },
  {
   "cell_type": "code",
   "execution_count": 5,
   "metadata": {},
   "outputs": [],
   "source": [
    "@qml.qnode(dev, interface=\"tf\")\n",
    "def qpca(angles, theta_weights, **kwargs):\n",
    "    real(angles)\n",
    "    utheta(theta_weights, [0, 1])\n",
    "    z0 = qml.expval(qml.PauliZ(0))\n",
    "    z1 = qml.expval(qml.PauliZ(1))\n",
    "    return z0, z1"
   ]
  },
  {
   "cell_type": "code",
   "execution_count": 6,
   "metadata": {},
   "outputs": [],
   "source": [
    "def pcaloss(angles, theta_weights, **kwargs):\n",
    "    z0, z1 = qpca(angles, theta_weights)\n",
    "    return 1/12 * ((z0 + 1) + 2 * (z1 + 1))"
   ]
  },
  {
   "cell_type": "code",
   "execution_count": 7,
   "metadata": {},
   "outputs": [],
   "source": [
    "angles = [np.pi / 6, np.pi / 2, np.pi / 7]\n",
    "\n",
    "np.random.seed(0)\n",
    "eps = 1e-2\n",
    "init_theta_weights = np.array([0] + [0] * 8) + \\\n",
    "                   np.random.normal(scale=eps, size=(9,))\n",
    "theta_weights = tf.Variable(init_theta_weights)\n",
    "\n",
    "opt = tf.keras.optimizers.SGD(0.4)"
   ]
  },
  {
   "cell_type": "code",
   "execution_count": 8,
   "metadata": {},
   "outputs": [
    {
     "name": "stdout",
     "output_type": "stream",
     "text": [
      "[8.53553391e-01 1.46446609e-01 1.11664317e-16 1.38436866e-17]\n",
      "0.4755922317655456\n"
     ]
    }
   ],
   "source": [
    "@qml.qnode(dev, interface=\"tf\")\n",
    "def show_real(angles, **kwargs):\n",
    "    real(angles)\n",
    "    return qml.density_matrix([0, 1])\n",
    "real_matrix = show_real(angles).numpy()\n",
    "U, S, V = np.linalg.svd(real_matrix)\n",
    "print(S)\n",
    "minloss = np.sum(S * np.arange(3, -1, -1))/12*2\n",
    "print(minloss)"
   ]
  },
  {
   "cell_type": "code",
   "execution_count": 9,
   "metadata": {},
   "outputs": [
    {
     "name": "stdout",
     "output_type": "stream",
     "text": [
      "Step 0: cost = 0.2674711591399931\n",
      "Step 5: cost = 0.23330251132801583\n",
      "Step 10: cost = 0.19938552058200298\n",
      "Step 15: cost = 0.17114781265284562\n",
      "Step 20: cost = 0.149980061635629\n",
      "Step 25: cost = 0.13438102674469704\n",
      "Step 30: cost = 0.12250431942534465\n",
      "Step 35: cost = 0.11313828675526555\n",
      "Step 40: cost = 0.10561922267866586\n",
      "Step 45: cost = 0.0995660539257526\n",
      "Step 50: cost = 0.09471682895836399\n",
      "Step 55: cost = 0.0908605112792006\n",
      "Step 60: cost = 0.08781541553595042\n",
      "Step 65: cost = 0.08542429933424167\n",
      "Step 70: cost = 0.08355347655790418\n",
      "Step 75: cost = 0.08209184846490997\n",
      "Step 80: cost = 0.08094903342126841\n",
      "Step 85: cost = 0.08005280965353742\n",
      "Step 90: cost = 0.07934628268054511\n",
      "Step 95: cost = 0.07878511502780464\n",
      "Step 100: cost = 0.07833502440867234\n",
      "Step 105: cost = 0.07796964294898256\n",
      "Step 110: cost = 0.07766875300140519\n",
      "Step 115: cost = 0.07741687153121965\n",
      "Step 120: cost = 0.07720213550244445\n",
      "Step 125: cost = 0.07701543592024875\n",
      "Step 130: cost = 0.07684975129392052\n",
      "Step 135: cost = 0.07669963783073404\n",
      "Step 140: cost = 0.07656084110721965\n",
      "Step 145: cost = 0.07643000100018776\n",
      "Step 150: cost = 0.076304427754798\n",
      "Step 155: cost = 0.0761819320867545\n",
      "Step 160: cost = 0.07606069622268344\n",
      "Step 165: cost = 0.07593917591784835\n",
      "Step 170: cost = 0.07581602591189673\n",
      "Step 175: cost = 0.07569004313888196\n",
      "Step 180: cost = 0.07556012342328784\n",
      "Step 185: cost = 0.07542522847172124\n",
      "Step 190: cost = 0.0752843607913017\n",
      "Step 195: cost = 0.07513654479330203\n",
      "Step 200: cost = 0.0749808128222964\n",
      "Step 205: cost = 0.07481619522320174\n",
      "Step 210: cost = 0.0746417138482927\n",
      "Step 215: cost = 0.07445637863338221\n",
      "Step 220: cost = 0.07425918705106349\n",
      "Step 225: cost = 0.07404912638870204\n",
      "Step 230: cost = 0.0738251789053648\n",
      "Step 235: cost = 0.07358632999736\n",
      "Step 240: cost = 0.07333157954593753\n",
      "Step 245: cost = 0.07305995662981074\n",
      "Step 250: cost = 0.07277053775436139\n",
      "Step 255: cost = 0.07246246867214678\n",
      "Step 260: cost = 0.07213498973877822\n",
      "Step 265: cost = 0.07178746455859436\n",
      "Step 270: cost = 0.07141941142306465\n",
      "Step 275: cost = 0.07103053673428145\n",
      "Step 280: cost = 0.0706207692471465\n",
      "Step 285: cost = 0.0701902935787812\n",
      "Step 290: cost = 0.06973958105691219\n",
      "Step 295: cost = 0.06926941565831833\n",
      "Step 300: cost = 0.06878091258262252\n",
      "Step 305: cost = 0.06827552697974855\n",
      "Step 310: cost = 0.06775505056094605\n",
      "Step 315: cost = 0.06722159431605226\n",
      "Step 320: cost = 0.06667755634490058\n",
      "Step 325: cost = 0.06612557485602588\n",
      "Step 330: cost = 0.0655684676079403\n",
      "Step 335: cost = 0.06500916033658978\n",
      "Step 340: cost = 0.06445060786359025\n",
      "Step 345: cost = 0.06389571244320554\n",
      "Step 350: cost = 0.0633472443373348\n",
      "Step 355: cost = 0.06280776952028141\n",
      "Step 360: cost = 0.06227958880182541\n",
      "Step 365: cost = 0.061764691596362054\n",
      "Step 370: cost = 0.061264726207511847\n",
      "Step 375: cost = 0.06078098703322257\n",
      "Step 380: cost = 0.060314417721425206\n",
      "Step 385: cost = 0.05986562818370372\n",
      "Step 390: cost = 0.05943492260911501\n",
      "Step 395: cost = 0.059022335248903726\n",
      "Step 400: cost = 0.058627670739208285\n",
      "Step 405: cost = 0.05825054602055445\n",
      "Step 410: cost = 0.0578904314033552\n",
      "Step 415: cost = 0.057546688918112494\n",
      "Step 420: cost = 0.05721860669087262\n",
      "Step 425: cost = 0.0569054286343796\n",
      "Step 430: cost = 0.05660637920390209\n",
      "Step 435: cost = 0.05632068331706928\n",
      "Step 440: cost = 0.056047581779998884\n",
      "Step 445: cost = 0.055786342709685105\n",
      "Step 450: cost = 0.05553626951312971\n",
      "Step 455: cost = 0.05529670599664506\n",
      "Step 460: cost = 0.05506703915245802\n",
      "Step 465: cost = 0.0548467001195363\n",
      "Step 470: cost = 0.054635163753349016\n",
      "Step 475: cost = 0.05443194717355897\n",
      "Step 480: cost = 0.05423660759499903\n",
      "Step 485: cost = 0.054048739689010764\n",
      "Step 490: cost = 0.0538679726709254\n",
      "Step 495: cost = 0.053693967265607385\n",
      "Step 500: cost = 0.053526412666327836\n",
      "Step 505: cost = 0.05336502357214438\n",
      "Step 510: cost = 0.053209537364631035\n",
      "Step 515: cost = 0.053059711465355104\n",
      "Step 520: cost = 0.05291532090016594\n",
      "Step 525: cost = 0.05277615608437143\n",
      "Step 530: cost = 0.052642020833661\n",
      "Step 535: cost = 0.05251273059862983\n",
      "Step 540: cost = 0.052388110915547986\n",
      "Step 545: cost = 0.05226799606225844\n",
      "Step 550: cost = 0.052152227905487986\n",
      "Step 555: cost = 0.05204065492417166\n",
      "Step 560: cost = 0.051933131392464096\n",
      "Step 565: cost = 0.05182951670576048\n",
      "Step 570: cost = 0.05172967483316616\n",
      "Step 575: cost = 0.05163347388032836\n",
      "Step 580: cost = 0.05154078574728844\n",
      "Step 585: cost = 0.05145148586695783\n",
      "Step 590: cost = 0.051365453010898565\n",
      "Step 595: cost = 0.05128256915027116\n",
      "Step 600: cost = 0.05120271936100738\n",
      "Step 605: cost = 0.05112579176350769\n",
      "Step 610: cost = 0.05105167748835533\n",
      "Step 615: cost = 0.05098027066070042\n",
      "Step 620: cost = 0.05091146839707522\n",
      "Step 625: cost = 0.05084517080941917\n",
      "Step 630: cost = 0.05078128101204514\n",
      "Step 635: cost = 0.05071970512812676\n",
      "Step 640: cost = 0.050660352293058576\n",
      "Step 645: cost = 0.05060313465270687\n",
      "Step 650: cost = 0.05054796735516047\n",
      "Step 655: cost = 0.05049476853508833\n",
      "Step 660: cost = 0.050443459290225874\n",
      "Step 665: cost = 0.050393963649865675\n",
      "Step 670: cost = 0.05034620853549775\n",
      "Step 675: cost = 0.050300123713967866\n",
      "Step 680: cost = 0.05025564174368281\n",
      "Step 685: cost = 0.05021269791451114\n",
      "Step 690: cost = 0.05017123018209849\n",
      "Step 695: cost = 0.050131179097374134\n",
      "Step 700: cost = 0.05009248773202377\n",
      "Step 705: cost = 0.0500551016007099\n",
      "Step 710: cost = 0.050018968580792425\n",
      "Step 715: cost = 0.049984038830261174\n",
      "Step 720: cost = 0.049950264704552966\n",
      "Step 725: cost = 0.04991760067286003\n",
      "Step 730: cost = 0.04988600323448978\n",
      "Step 735: cost = 0.04985543083576799\n",
      "Step 740: cost = 0.04982584378792074\n",
      "Step 745: cost = 0.04979720418631227\n",
      "Step 750: cost = 0.04976947583135706\n",
      "Step 755: cost = 0.049742624151372455\n",
      "Step 760: cost = 0.04971661612759139\n",
      "Step 765: cost = 0.04969142022150392\n",
      "Step 770: cost = 0.049667006304658715\n",
      "Step 775: cost = 0.04964334559102044\n",
      "Step 780: cost = 0.04962041057194089\n",
      "Step 785: cost = 0.04959817495377745\n",
      "Step 790: cost = 0.049576613598165925\n",
      "Step 795: cost = 0.04955570246493389\n",
      "Step 800: cost = 0.04953541855762204\n",
      "Step 805: cost = 0.04951573987156814\n",
      "Step 810: cost = 0.0494966453444918\n",
      "Step 815: cost = 0.049478114809514154\n",
      "Step 820: cost = 0.0494601289505339\n",
      "Step 825: cost = 0.04944266925987849\n",
      "Step 830: cost = 0.04942571799814358\n",
      "Step 835: cost = 0.049409258156133395\n",
      "Step 840: cost = 0.04939327341880943\n",
      "Step 845: cost = 0.049377748131159784\n",
      "Step 850: cost = 0.049362667265896484\n",
      "Step 855: cost = 0.04934801639289303\n",
      "Step 860: cost = 0.04933378165027598\n",
      "Step 865: cost = 0.04931994971708345\n",
      "Step 870: cost = 0.04930650778741106\n",
      "Step 875: cost = 0.0492934435459628\n",
      "Step 880: cost = 0.049280745144933004\n",
      "Step 885: cost = 0.049268401182144456\n",
      "Step 890: cost = 0.04925640068037264\n",
      "Step 895: cost = 0.04924473306779231\n",
      "Step 900: cost = 0.04923338815947603\n",
      "Step 905: cost = 0.04922235613989248\n",
      "Step 910: cost = 0.04921162754634032\n",
      "Step 915: cost = 0.04920119325326987\n",
      "Step 920: cost = 0.049191044457433115\n",
      "Step 925: cost = 0.04918117266382328\n",
      "Step 930: cost = 0.0491715696723506\n",
      "Step 935: cost = 0.049162227565213934\n",
      "Step 940: cost = 0.04915313869493021\n",
      "Step 945: cost = 0.04914429567297891\n",
      "Step 950: cost = 0.04913569135902937\n",
      "Step 955: cost = 0.04912731885071504\n",
      "Step 960: cost = 0.0491191714739252\n",
      "Step 965: cost = 0.04911124277358041\n",
      "Step 970: cost = 0.04910352650486905\n",
      "Step 975: cost = 0.04909601662491456\n",
      "Step 980: cost = 0.04908870728484944\n",
      "Step 985: cost = 0.049081592822274145\n",
      "Step 990: cost = 0.049074667754079496\n",
      "Step 995: cost = 0.04906792676960809\n"
     ]
    },
    {
     "data": {
      "image/png": "[encoded data removed]",
      "text/plain": [
       "<Figure size 432x288 with 1 Axes>"
      ]
     },
     "metadata": {
      "needs_background": "light"
     },
     "output_type": "display_data"
    }
   ],
   "source": [
    "cost = lambda: pcaloss(angles, theta_weights)\n",
    "n_step = 1000\n",
    "cost_list = []\n",
    "for step in range(1000):\n",
    "    opt.minimize(cost, theta_weights)\n",
    "    cost_val = cost().numpy()\n",
    "    cost_list.append(cost_val)\n",
    "    if step % 5 == 0:\n",
    "        print(\"Step {}: cost = {}\".format(step, cost_val))\n",
    "plt.plot(np.arange(n_step), cost_list)\n",
    "plt.hlines(minloss/10, 0, n_step, color='r')\n",
    "plt.show()"
   ]
  },
  {
   "cell_type": "code",
   "execution_count": 10,
   "metadata": {},
   "outputs": [],
   "source": [
    "@qml.qnode(dev, interface=\"tf\")\n",
    "def show_real_diag(angles, theta_weights, **kwargs):\n",
    "    real(angles)\n",
    "    utheta(theta_weights, [0, 1])\n",
    "    return qml.density_matrix([0, 1])"
   ]
  },
  {
   "cell_type": "code",
   "execution_count": 19,
   "metadata": {},
   "outputs": [
    {
     "name": "stdout",
     "output_type": "stream",
     "text": [
      "[8.53553391e-01 1.46446609e-01 1.11664317e-16 1.38436866e-17]\n",
      "[8.52303167e-01 1.46229320e-01 1.24259988e-03 2.24912758e-04]\n"
     ]
    },
    {
     "data": {
      "image/png": "[encoded data removed]",
      "text/plain": [
       "<Figure size 432x288 with 2 Axes>"
      ]
     },
     "metadata": {
      "needs_background": "light"
     },
     "output_type": "display_data"
    }
   ],
   "source": [
    "print(S)\n",
    "print(-np.sort(-np.abs(np.diag(show_real_diag(angles, theta_weights).numpy()))))\n",
    "plt.imshow(np.abs(show_real_diag(angles, theta_weights).numpy()))\n",
    "plt.colorbar()\n",
    "plt.show()"
   ]
  },
  {
   "cell_type": "code",
   "execution_count": null,
   "metadata": {},
   "outputs": [],
   "source": []
  },
  {
   "cell_type": "code",
   "execution_count": null,
   "metadata": {},
   "outputs": [],
   "source": []
  }
 ],
 "metadata": {
  "interpreter": {
   "hash": "6544d7d25989b4294a912322cb1a3d014baeb728b9c72e23e3b8bbf4fa651ef0"
  },
  "kernelspec": {
   "display_name": "Python 3.7.6 64-bit ('anaconda3-2020.02': pyenv)",
   "language": "python",
   "name": "python3"
  },
  "language_info": {
   "codemirror_mode": {
    "name": "ipython",
    "version": 3
   },
   "file_extension": ".py",
   "mimetype": "text/x-python",
   "name": "python",
   "nbconvert_exporter": "python",
   "pygments_lexer": "ipython3",
   "version": "3.7.6"
  },
  "orig_nbformat": 4
 },
 "nbformat": 4,
 "nbformat_minor": 2
}
