{
 "cells": [
  {
   "cell_type": "code",
   "execution_count": 19,
   "metadata": {},
   "outputs": [],
   "source": [
    "import pennylane as qml\n",
    "import numpy as np\n",
    "import tensorflow as tf\n",
    "import matplotlib.pyplot as plt\n",
    "%matplotlib inline"
   ]
  },
  {
   "cell_type": "code",
   "execution_count": 20,
   "metadata": {},
   "outputs": [],
   "source": [
    "# n qubits case\n",
    "n = 4\n",
    "m = 2 * n\n",
    "dev = qml.device('default.qubit', wires=m)"
   ]
  },
  {
   "cell_type": "code",
   "execution_count": 21,
   "metadata": {},
   "outputs": [],
   "source": [
    "# two qubit case\n",
    "def real(angles, **kwargs):\n",
    "    utheta(angles, np.arange(m))"
   ]
  },
  {
   "cell_type": "code",
   "execution_count": 22,
   "metadata": {},
   "outputs": [],
   "source": [
    "def utheta(w, wires, **kwargs):\n",
    "    pos = 0\n",
    "    for i in range(len(wires)):\n",
    "        qml.RX(w[pos], wires=wires[i])\n",
    "        qml.RY(w[pos+1], wires=wires[i])\n",
    "        qml.RZ(w[pos+2], wires=wires[i])\n",
    "        pos += 3\n",
    "\n",
    "    for layer in range(4*n):\n",
    "        for i in range(len(wires)-1):\n",
    "            qml.CNOT(wires=[wires[i], wires[i+1]])\n",
    "        qml.CNOT(wires=[wires[len(wires)-1], wires[0]])\n",
    "        \n",
    "        for i in range(len(wires)):\n",
    "            qml.RX(w[pos], wires=wires[i])\n",
    "            qml.RY(w[pos+1], wires=wires[i])\n",
    "            qml.RZ(w[pos+2], wires=wires[i])\n",
    "            pos += 3\n"
   ]
  },
  {
   "cell_type": "code",
   "execution_count": 23,
   "metadata": {},
   "outputs": [],
   "source": [
    "@qml.qnode(dev, interface=\"tf\")\n",
    "def qpca(angles, theta_weights, **kwargs):\n",
    "    real(angles)\n",
    "    utheta(theta_weights, list(range(n)))\n",
    "    z = []\n",
    "    for i in range(n):\n",
    "        z.append(qml.expval(qml.PauliZ(i)))\n",
    "    return z"
   ]
  },
  {
   "cell_type": "code",
   "execution_count": 24,
   "metadata": {},
   "outputs": [],
   "source": [
    "def pcaloss(angles, theta_weights, **kwargs):\n",
    "    z = qpca(angles, theta_weights)\n",
    "    return 1 / 2 ** n / (2 ** n - 1) * tf.math.reduce_sum((z + 1) * (2 ** tf.range(n, dtype=tf.double)))"
   ]
  },
  {
   "cell_type": "code",
   "execution_count": 25,
   "metadata": {},
   "outputs": [],
   "source": [
    "\n",
    "np.random.seed(0)\n",
    "#angles = [np.pi / 6, np.pi / 2, np.pi / 7]\n",
    "n_angles = (m + 1) * 3 * m * 4\n",
    "angles = np.array([0] * n_angles) + \\\n",
    "                   np.random.normal(scale=np.pi, size=(n_angles,))\n",
    "\n",
    "\n",
    "eps = 1e-2\n",
    "n_param = (n + 1) * 3 * n * 4\n",
    "init_theta_weights = np.array([0] * n_param) + \\\n",
    "                   np.random.normal(scale=eps, size=(n_param,))\n",
    "theta_weights = tf.Variable(init_theta_weights)\n",
    "\n",
    "opt = tf.keras.optimizers.Adam(0.1)"
   ]
  },
  {
   "cell_type": "code",
   "execution_count": 26,
   "metadata": {},
   "outputs": [
    {
     "name": "stdout",
     "output_type": "stream",
     "text": [
      "[2.17700316e-01 1.81401684e-01 1.38392838e-01 1.19328333e-01\n",
      " 8.64941820e-02 6.76431777e-02 4.87401697e-02 4.05142797e-02\n",
      " 2.96022492e-02 2.53171071e-02 1.91009725e-02 1.15756290e-02\n",
      " 8.28834778e-03 4.12904668e-03 1.68351381e-03 8.81536456e-05]\n",
      "0.02531207359861974\n"
     ]
    }
   ],
   "source": [
    "@qml.qnode(dev, interface=\"tf\")\n",
    "def show_real(angles, **kwargs):\n",
    "    real(angles)\n",
    "    return qml.density_matrix(list(range(n)))\n",
    "real_matrix = show_real(angles).numpy()\n",
    "U, S, V = np.linalg.svd(real_matrix)\n",
    "print(S)\n",
    "minloss = np.sum(S * np.arange(len(S))) / 2 ** n / (2 ** n - 1) * 2\n",
    "print(minloss)"
   ]
  },
  {
   "cell_type": "code",
   "execution_count": 27,
   "metadata": {},
   "outputs": [
    {
     "name": "stdout",
     "output_type": "stream",
     "text": [
      "Step 0: cost = 0.05972745399132313\n",
      "Step 5: cost = 0.03987241029253147\n",
      "Step 10: cost = 0.0349312862709074\n",
      "Step 15: cost = 0.03117899394354293\n",
      "Step 20: cost = 0.02935083427828682\n",
      "Step 25: cost = 0.028590465619585156\n",
      "Step 30: cost = 0.027845975267947715\n",
      "Step 35: cost = 0.02716736118517131\n",
      "Step 40: cost = 0.026868752537415323\n",
      "Step 45: cost = 0.026638354313250144\n",
      "Step 50: cost = 0.026442508102610035\n",
      "Step 55: cost = 0.02626853035070505\n",
      "Step 60: cost = 0.02612353853073167\n",
      "Step 65: cost = 0.026009022520705354\n",
      "Step 70: cost = 0.025929254030320325\n",
      "Step 75: cost = 0.025875102593424456\n",
      "Step 80: cost = 0.02583755620382906\n",
      "Step 85: cost = 0.025806523428717847\n",
      "Step 90: cost = 0.025780019712032223\n",
      "Step 95: cost = 0.025755263809961012\n",
      "Step 100: cost = 0.025732897821936943\n",
      "Step 105: cost = 0.02571234830504016\n",
      "Step 110: cost = 0.0256929878082001\n",
      "Step 115: cost = 0.025675287961825263\n",
      "Step 120: cost = 0.025659021717025787\n",
      "Step 125: cost = 0.025644116402364345\n",
      "Step 130: cost = 0.025630526915532192\n",
      "Step 135: cost = 0.02561853382848585\n",
      "Step 140: cost = 0.025607812677681686\n",
      "Step 145: cost = 0.02559803777968137\n",
      "Step 150: cost = 0.025589150331202196\n",
      "Step 155: cost = 0.025581489021812294\n",
      "Step 160: cost = 0.02561329884463202\n",
      "Step 165: cost = 0.02593013165523793\n",
      "Step 170: cost = 0.0255737157372162\n",
      "Step 175: cost = 0.025708831954800435\n",
      "Step 180: cost = 0.025616480903500414\n",
      "Step 185: cost = 0.025567942095746112\n",
      "Step 190: cost = 0.025594173219626513\n",
      "Step 195: cost = 0.025558542068542564\n"
     ]
    },
    {
     "data": {
      "image/png": "[encoded data removed]",
      "text/plain": [
       "<Figure size 432x288 with 1 Axes>"
      ]
     },
     "metadata": {
      "needs_background": "light"
     },
     "output_type": "display_data"
    }
   ],
   "source": [
    "cost = lambda: pcaloss(angles, theta_weights)\n",
    "n_step = 200\n",
    "cost_list = []\n",
    "for step in range(n_step):\n",
    "    opt.minimize(cost, theta_weights)\n",
    "    cost_val = cost().numpy()\n",
    "    cost_list.append(cost_val)\n",
    "    if step % 5 == 0:\n",
    "        print(\"Step {}: cost = {}\".format(step, cost_val))\n",
    "plt.plot(np.arange(n_step), cost_list)\n",
    "plt.hlines(minloss, 0, n_step, color='r')\n",
    "plt.show()"
   ]
  },
  {
   "cell_type": "code",
   "execution_count": 28,
   "metadata": {},
   "outputs": [],
   "source": [
    "@qml.qnode(dev, interface=\"tf\")\n",
    "def show_real_diag(angles, theta_weights, **kwargs):\n",
    "    real(angles)\n",
    "    utheta(theta_weights, list(range(n)))\n",
    "    return qml.density_matrix(list(range(n)))"
   ]
  },
  {
   "cell_type": "code",
   "execution_count": 29,
   "metadata": {},
   "outputs": [
    {
     "name": "stdout",
     "output_type": "stream",
     "text": [
      "[2.17700316e-01 1.81401684e-01 1.38392838e-01 1.19328333e-01\n",
      " 8.64941820e-02 6.76431777e-02 4.87401697e-02 4.05142797e-02\n",
      " 2.96022492e-02 2.53171071e-02 1.91009725e-02 1.15756290e-02\n",
      " 8.28834778e-03 4.12904668e-03 1.68351381e-03 8.81536456e-05]\n",
      "[0.21759384 0.18101581 0.13657117 0.12119664 0.08604379 0.06773463\n",
      " 0.0477278  0.03614732 0.03429207 0.02591851 0.01871034 0.01056206\n",
      " 0.00813931 0.00348831 0.00256904 0.00228936]\n"
     ]
    },
    {
     "data": {
      "image/png": "[encoded data removed]",
      "text/plain": [
       "<Figure size 432x288 with 2 Axes>"
      ]
     },
     "metadata": {
      "needs_background": "light"
     },
     "output_type": "display_data"
    }
   ],
   "source": [
    "print(S)\n",
    "print(-np.sort(-np.abs(np.diag(show_real_diag(angles, theta_weights).numpy()))))\n",
    "plt.imshow(np.abs(show_real_diag(angles, theta_weights).numpy()))\n",
    "plt.colorbar()\n",
    "plt.show()"
   ]
  },
  {
   "cell_type": "code",
   "execution_count": null,
   "metadata": {},
   "outputs": [],
   "source": []
  }
 ],
 "metadata": {
  "interpreter": {
   "hash": "31f2aee4e71d21fbe5cf8b01ff0e069b9275f58929596ceb00d14d90e3e16cd6"
  },
  "kernelspec": {
   "display_name": "Python 3.8.10 64-bit",
   "name": "python3"
  },
  "language_info": {
   "codemirror_mode": {
    "name": "ipython",
    "version": 3
   },
   "file_extension": ".py",
   "mimetype": "text/x-python",
   "name": "python",
   "nbconvert_exporter": "python",
   "pygments_lexer": "ipython3",
   "version": "3.8.10"
  },
  "orig_nbformat": 4
 },
 "nbformat": 4,
 "nbformat_minor": 2
}
