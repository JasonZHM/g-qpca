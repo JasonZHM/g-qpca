{
 "cells": [
  {
   "cell_type": "code",
   "execution_count": 56,
   "metadata": {},
   "outputs": [],
   "source": [
    "import pennylane as qml\n",
    "import numpy as np\n",
    "import tensorflow as tf\n",
    "import matplotlib.pyplot as plt\n",
    "%matplotlib inline"
   ]
  },
  {
   "cell_type": "code",
   "execution_count": 57,
   "metadata": {},
   "outputs": [],
   "source": [
    "dev = qml.device('default.qubit', wires=3)"
   ]
  },
  {
   "cell_type": "code",
   "execution_count": 58,
   "metadata": {},
   "outputs": [],
   "source": [
    "# two qubit case\n",
    "def real(angles, **kwargs):\n",
    "    qml.Hadamard(wires=0)\n",
    "    qml.RY(np.pi / 4, wires=1)\n",
    "    qml.RY(np.pi / 4, wires=2)\n",
    "    qml.RX(np.pi / 4, wires=0)\n",
    "    qml.CNOT(wires=[0, 1])\n",
    "    qml.Rot(*angles, wires=0)\n",
    "    qml.CNOT(wires=[1, 2])\n",
    "    qml.Rot(*angles, wires=1)"
   ]
  },
  {
   "cell_type": "code",
   "execution_count": 59,
   "metadata": {},
   "outputs": [],
   "source": [
    "def utheta(w, wires, **kwargs):\n",
    "    qml.Hadamard(wires=wires[0])\n",
    "    qml.RX(w[0], wires=wires[0])\n",
    "    qml.RX(w[1], wires=wires[1])\n",
    "    qml.RY(w[2], wires=wires[0])\n",
    "    qml.RY(w[3], wires=wires[1])\n",
    "    qml.RZ(w[4], wires=wires[0])\n",
    "    qml.RZ(w[5], wires=wires[1])\n",
    "    qml.CNOT(wires=[wires[0], wires[1]])\n",
    "    qml.RX(w[6], wires=wires[0])\n",
    "    qml.RY(w[7], wires=wires[0])\n",
    "    qml.RZ(w[8], wires=wires[0])\n",
    "    qml.RX(w[9], wires=wires[1])\n",
    "    qml.RY(w[10], wires=wires[1])\n",
    "    qml.RZ(w[11], wires=wires[1])\n",
    "    qml.CNOT(wires=[wires[0], wires[1]])\n",
    "    qml.RX(w[12], wires=wires[0])\n",
    "    qml.RY(w[13], wires=wires[0])\n",
    "    qml.RZ(w[14], wires=wires[0])\n",
    "    qml.RX(w[15], wires=wires[1])\n",
    "    qml.RY(w[16], wires=wires[1])\n",
    "    qml.RZ(w[17], wires=wires[1])"
   ]
  },
  {
   "cell_type": "code",
   "execution_count": 60,
   "metadata": {},
   "outputs": [],
   "source": [
    "@qml.qnode(dev, interface=\"tf\")\n",
    "def qpca(angles, theta_weights, **kwargs):\n",
    "    real(angles)\n",
    "    utheta(theta_weights, [0, 1])\n",
    "    z0 = qml.expval(qml.PauliZ(0))\n",
    "    z1 = qml.expval(qml.PauliZ(1))\n",
    "    return z0, z1"
   ]
  },
  {
   "cell_type": "code",
   "execution_count": 61,
   "metadata": {},
   "outputs": [],
   "source": [
    "def pcaloss(angles, theta_weights, **kwargs):\n",
    "    z0, z1 = qpca(angles, theta_weights)\n",
    "    return 1/12 * ((z0 + 1) + 2 * (z1 + 1))"
   ]
  },
  {
   "cell_type": "code",
   "execution_count": 62,
   "metadata": {},
   "outputs": [],
   "source": [
    "angles = [np.pi / 6, np.pi / 2, np.pi / 7]\n",
    "\n",
    "np.random.seed(0)\n",
    "eps = 1e-2\n",
    "init_theta_weights = np.array([0] + [0] * 17) + \\\n",
    "                   np.random.normal(scale=eps, size=(18,))\n",
    "theta_weights = tf.Variable(init_theta_weights)\n",
    "\n",
    "opt = tf.keras.optimizers.SGD(4)"
   ]
  },
  {
   "cell_type": "code",
   "execution_count": 63,
   "metadata": {},
   "outputs": [
    {
     "name": "stdout",
     "output_type": "stream",
     "text": [
      "[8.53553391e-01 1.46446609e-01 1.11664317e-16 1.38436866e-17]\n",
      "0.02440776823445441\n"
     ]
    }
   ],
   "source": [
    "@qml.qnode(dev, interface=\"tf\")\n",
    "def show_real(angles, **kwargs):\n",
    "    real(angles)\n",
    "    return qml.density_matrix([0, 1])\n",
    "real_matrix = show_real(angles).numpy()\n",
    "U, S, V = np.linalg.svd(real_matrix)\n",
    "print(S)\n",
    "#minloss = np.sum(S * np.arange(3, -1, -1))/12*2\n",
    "minloss = np.sum(S * np.arange(0, 4, 1))/6\n",
    "print(minloss)"
   ]
  },
  {
   "cell_type": "code",
   "execution_count": 64,
   "metadata": {},
   "outputs": [
    {
     "name": "stdout",
     "output_type": "stream",
     "text": [
      "Step 0: cost = 0.08731147138065784\n",
      "Step 5: cost = 0.04493122000596672\n",
      "Step 10: cost = 0.04255865754882988\n",
      "Step 15: cost = 0.040288413286132176\n",
      "Step 20: cost = 0.03811459514407403\n",
      "Step 25: cost = 0.03600369357696277\n",
      "Step 30: cost = 0.03394416780620033\n",
      "Step 35: cost = 0.0320126895398543\n",
      "Step 40: cost = 0.0302939217974953\n",
      "Step 45: cost = 0.028833344792607102\n",
      "Step 50: cost = 0.027644865999728048\n",
      "Step 55: cost = 0.026719194873341713\n",
      "Step 60: cost = 0.02602661992005792\n",
      "Step 65: cost = 0.02552497194448855\n",
      "Step 70: cost = 0.02517032596009764\n",
      "Step 75: cost = 0.024924000221199727\n",
      "Step 80: cost = 0.024755131035119317\n",
      "Step 85: cost = 0.02464048823485034\n",
      "Step 90: cost = 0.02456322551031001\n",
      "Step 95: cost = 0.024511432431586766\n",
      "Step 100: cost = 0.02447684222279651\n",
      "Step 105: cost = 0.024453796339798457\n",
      "Step 110: cost = 0.024438461637746246\n",
      "Step 115: cost = 0.024428261745800473\n",
      "Step 120: cost = 0.024421474672591405\n",
      "Step 125: cost = 0.024416954011789217\n",
      "Step 130: cost = 0.02441393843668387\n",
      "Step 135: cost = 0.02441192305657678\n",
      "Step 140: cost = 0.02441057317746631\n",
      "Step 145: cost = 0.024409666859508145\n",
      "Step 150: cost = 0.024409056786352745\n",
      "Step 155: cost = 0.024408645031113507\n",
      "Step 160: cost = 0.024408366373787533\n",
      "Step 165: cost = 0.02440817728155814\n",
      "Step 170: cost = 0.024408048625358503\n",
      "Step 175: cost = 0.02440796086276244\n",
      "Step 180: cost = 0.02440790084669018\n",
      "Step 185: cost = 0.024407859707643836\n",
      "Step 190: cost = 0.02440783144497633\n",
      "Step 195: cost = 0.024407811987607532\n"
     ]
    },
    {
     "data": {
      "image/png": "[encoded data removed]",
      "text/plain": [
       "<Figure size 432x288 with 1 Axes>"
      ]
     },
     "metadata": {
      "needs_background": "light"
     },
     "output_type": "display_data"
    }
   ],
   "source": [
    "cost = lambda: pcaloss(angles, theta_weights)\n",
    "n_step = 200\n",
    "cost_list = []\n",
    "for step in range(n_step):\n",
    "    opt.minimize(cost, theta_weights)\n",
    "    cost_val = cost().numpy()\n",
    "    cost_list.append(cost_val)\n",
    "    if step % 5 == 0:\n",
    "        print(\"Step {}: cost = {}\".format(step, cost_val))\n",
    "plt.plot(np.arange(n_step), cost_list)\n",
    "plt.hlines(minloss, 0, n_step, color='r')\n",
    "plt.show()"
   ]
  },
  {
   "cell_type": "code",
   "execution_count": 65,
   "metadata": {},
   "outputs": [],
   "source": [
    "@qml.qnode(dev, interface=\"tf\")\n",
    "def show_real_diag(angles, theta_weights, **kwargs):\n",
    "    real(angles)\n",
    "    utheta(theta_weights, [0, 1])\n",
    "    return qml.density_matrix([0, 1])"
   ]
  },
  {
   "cell_type": "code",
   "execution_count": 66,
   "metadata": {},
   "outputs": [
    {
     "name": "stdout",
     "output_type": "stream",
     "text": [
      "[8.53553391e-01 1.46446609e-01 1.11664317e-16 1.38436866e-17]\n",
      "[8.53553385e-01 1.46446453e-01 1.33851897e-07 2.81709020e-08]\n"
     ]
    },
    {
     "data": {
      "image/png": "[encoded data removed]",
      "text/plain": [
       "<Figure size 432x288 with 2 Axes>"
      ]
     },
     "metadata": {
      "needs_background": "light"
     },
     "output_type": "display_data"
    }
   ],
   "source": [
    "print(S)\n",
    "print(-np.sort(-np.abs(np.diag(show_real_diag(angles, theta_weights).numpy()))))\n",
    "plt.imshow(np.abs(show_real_diag(angles, theta_weights).numpy()))\n",
    "plt.colorbar()\n",
    "plt.show()"
   ]
  },
  {
   "cell_type": "code",
   "execution_count": null,
   "metadata": {},
   "outputs": [],
   "source": []
  },
  {
   "cell_type": "code",
   "execution_count": null,
   "metadata": {},
   "outputs": [],
   "source": []
  }
 ],
 "metadata": {
  "interpreter": {
   "hash": "31f2aee4e71d21fbe5cf8b01ff0e069b9275f58929596ceb00d14d90e3e16cd6"
  },
  "kernelspec": {
   "display_name": "Python 3.8.10 64-bit",
   "name": "python3"
  },
  "language_info": {
   "codemirror_mode": {
    "name": "ipython",
    "version": 3
   },
   "file_extension": ".py",
   "mimetype": "text/x-python",
   "name": "python",
   "nbconvert_exporter": "python",
   "pygments_lexer": "ipython3",
   "version": "3.8.10"
  },
  "orig_nbformat": 4
 },
 "nbformat": 4,
 "nbformat_minor": 2
}
